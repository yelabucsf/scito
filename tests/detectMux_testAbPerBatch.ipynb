{
 "cells": [
  {
   "cell_type": "code",
   "execution_count": 1,
   "metadata": {},
   "outputs": [
    {
     "name": "stderr",
     "output_type": "stream",
     "text": [
      "/Users/antonogorodnikov/anaconda3/envs/scito/lib/python3.7/site-packages/anndata/_core/anndata.py:21: FutureWarning: pandas.core.index is deprecated and will be removed in a future version.  The public classes are available in the top-level namespace.\n",
      "  from pandas.core.index import RangeIndex\n"
     ]
    }
   ],
   "source": [
    "from scito import preprocess\n",
    "import seaborn as sns\n",
    "import scanpy as sc\n",
    "import pandas as pd"
   ]
  },
  {
   "cell_type": "code",
   "execution_count": 2,
   "metadata": {},
   "outputs": [],
   "source": [
    "path = '/Users/antonogorodnikov/Documents/Work/DataSci/SCITO-seq/tests/200k_TBfiltered_feature_bc_matrix.h5'"
   ]
  },
  {
   "cell_type": "code",
   "execution_count": 3,
   "metadata": {},
   "outputs": [
    {
     "name": "stderr",
     "output_type": "stream",
     "text": [
      "Variable names are not unique. To make them unique, call `.var_names_make_unique`.\n"
     ]
    }
   ],
   "source": [
    "lol = preprocess.ScitoFrame(path=path)"
   ]
  },
  {
   "cell_type": "code",
   "execution_count": 4,
   "metadata": {},
   "outputs": [
    {
     "data": {
      "text/html": [
       "<div>\n",
       "<style scoped>\n",
       "    .dataframe tbody tr th:only-of-type {\n",
       "        vertical-align: middle;\n",
       "    }\n",
       "\n",
       "    .dataframe tbody tr th {\n",
       "        vertical-align: top;\n",
       "    }\n",
       "\n",
       "    .dataframe thead th {\n",
       "        text-align: right;\n",
       "    }\n",
       "</style>\n",
       "<table border=\"1\" class=\"dataframe\">\n",
       "  <thead>\n",
       "    <tr style=\"text-align: right;\">\n",
       "      <th></th>\n",
       "      <th>gene_ids</th>\n",
       "      <th>feature_types</th>\n",
       "      <th>genome</th>\n",
       "    </tr>\n",
       "  </thead>\n",
       "  <tbody>\n",
       "    <tr>\n",
       "      <th>MIR1302-2HG</th>\n",
       "      <td>ENSG00000243485</td>\n",
       "      <td>Gene Expression</td>\n",
       "      <td>GRCh38</td>\n",
       "    </tr>\n",
       "    <tr>\n",
       "      <th>FAM138A</th>\n",
       "      <td>ENSG00000237613</td>\n",
       "      <td>Gene Expression</td>\n",
       "      <td>GRCh38</td>\n",
       "    </tr>\n",
       "    <tr>\n",
       "      <th>OR4F5</th>\n",
       "      <td>ENSG00000186092</td>\n",
       "      <td>Gene Expression</td>\n",
       "      <td>GRCh38</td>\n",
       "    </tr>\n",
       "    <tr>\n",
       "      <th>AL627309.1</th>\n",
       "      <td>ENSG00000238009</td>\n",
       "      <td>Gene Expression</td>\n",
       "      <td>GRCh38</td>\n",
       "    </tr>\n",
       "    <tr>\n",
       "      <th>AL627309.3</th>\n",
       "      <td>ENSG00000239945</td>\n",
       "      <td>Gene Expression</td>\n",
       "      <td>GRCh38</td>\n",
       "    </tr>\n",
       "    <tr>\n",
       "      <th>...</th>\n",
       "      <td>...</td>\n",
       "      <td>...</td>\n",
       "      <td>...</td>\n",
       "    </tr>\n",
       "    <tr>\n",
       "      <th>CD20barcode1</th>\n",
       "      <td>Ab1CD20</td>\n",
       "      <td>Antibody Capture</td>\n",
       "      <td></td>\n",
       "    </tr>\n",
       "    <tr>\n",
       "      <th>CD20barcode2</th>\n",
       "      <td>Ab2CD20</td>\n",
       "      <td>Antibody Capture</td>\n",
       "      <td></td>\n",
       "    </tr>\n",
       "    <tr>\n",
       "      <th>CD20barcode3</th>\n",
       "      <td>Ab3CD20</td>\n",
       "      <td>Antibody Capture</td>\n",
       "      <td></td>\n",
       "    </tr>\n",
       "    <tr>\n",
       "      <th>CD20barcode4</th>\n",
       "      <td>Ab4CD20</td>\n",
       "      <td>Antibody Capture</td>\n",
       "      <td></td>\n",
       "    </tr>\n",
       "    <tr>\n",
       "      <th>CD20barcode5</th>\n",
       "      <td>Ab5CD20</td>\n",
       "      <td>Antibody Capture</td>\n",
       "      <td></td>\n",
       "    </tr>\n",
       "  </tbody>\n",
       "</table>\n",
       "<p>33548 rows × 3 columns</p>\n",
       "</div>"
      ],
      "text/plain": [
       "                     gene_ids     feature_types  genome\n",
       "MIR1302-2HG   ENSG00000243485   Gene Expression  GRCh38\n",
       "FAM138A       ENSG00000237613   Gene Expression  GRCh38\n",
       "OR4F5         ENSG00000186092   Gene Expression  GRCh38\n",
       "AL627309.1    ENSG00000238009   Gene Expression  GRCh38\n",
       "AL627309.3    ENSG00000239945   Gene Expression  GRCh38\n",
       "...                       ...               ...     ...\n",
       "CD20barcode1          Ab1CD20  Antibody Capture        \n",
       "CD20barcode2          Ab2CD20  Antibody Capture        \n",
       "CD20barcode3          Ab3CD20  Antibody Capture        \n",
       "CD20barcode4          Ab4CD20  Antibody Capture        \n",
       "CD20barcode5          Ab5CD20  Antibody Capture        \n",
       "\n",
       "[33548 rows x 3 columns]"
      ]
     },
     "execution_count": 4,
     "metadata": {},
     "output_type": "execute_result"
    }
   ],
   "source": [
    "lol.adata.var"
   ]
  },
  {
   "cell_type": "code",
   "execution_count": 5,
   "metadata": {},
   "outputs": [
    {
     "name": "stderr",
     "output_type": "stream",
     "text": [
      "/Users/antonogorodnikov/anaconda3/envs/scito/lib/python3.7/site-packages/pandas/core/strings.py:1952: UserWarning: This pattern has match groups. To actually get the groups, use str.extract.\n",
      "  return func(self, *args, **kwargs)\n",
      "Transforming to str index.\n"
     ]
    },
    {
     "name": "stdout",
     "output_type": "stream",
     "text": [
      "Keeping linear scale data for computing average\n",
      "Performing k-means clustering\n"
     ]
    },
    {
     "name": "stderr",
     "output_type": "stream",
     "text": [
      "Transforming to str index.\n",
      "/Users/antonogorodnikov/anaconda3/envs/scito/lib/python3.7/site-packages/pandas/core/strings.py:1952: UserWarning: This pattern has match groups. To actually get the groups, use str.extract.\n",
      "  return func(self, *args, **kwargs)\n",
      "/Users/antonogorodnikov/anaconda3/envs/scito/lib/python3.7/site-packages/scipy/sparse/_index.py:126: SparseEfficiencyWarning: Changing the sparsity structure of a csr_matrix is expensive. lil_matrix is more efficient.\n",
      "  self._set_arrayXarray(i, j, x)\n",
      "Observation names are not unique. To make them unique, call `.obs_names_make_unique`.\n",
      "Or pass `index_unique!=None` to `.concatenate`.\n"
     ]
    },
    {
     "name": "stdout",
     "output_type": "stream",
     "text": [
      "Cutoff for CD4barcode1: 554 reads\n",
      "Cutoff for CD4barcode2: 2825 reads\n"
     ]
    },
    {
     "name": "stderr",
     "output_type": "stream",
     "text": [
      "Observation names are not unique. To make them unique, call `.obs_names_make_unique`.\n",
      "Or pass `index_unique!=None` to `.concatenate`.\n",
      "Observation names are not unique. To make them unique, call `.obs_names_make_unique`.\n",
      "Or pass `index_unique!=None` to `.concatenate`.\n"
     ]
    },
    {
     "name": "stdout",
     "output_type": "stream",
     "text": [
      "Cutoff for CD4barcode3: 424 reads\n",
      "Cutoff for CD4barcode4: 1240 reads\n"
     ]
    },
    {
     "name": "stderr",
     "output_type": "stream",
     "text": [
      "Observation names are not unique. To make them unique, call `.obs_names_make_unique`.\n",
      "Or pass `index_unique!=None` to `.concatenate`.\n",
      "Observation names are not unique. To make them unique, call `.obs_names_make_unique`.\n",
      "Or pass `index_unique!=None` to `.concatenate`.\n"
     ]
    },
    {
     "name": "stdout",
     "output_type": "stream",
     "text": [
      "Cutoff for CD4barcode5: 696 reads\n",
      "Cutoff for CD20barcode1: 3579 reads\n"
     ]
    },
    {
     "name": "stderr",
     "output_type": "stream",
     "text": [
      "Observation names are not unique. To make them unique, call `.obs_names_make_unique`.\n",
      "Or pass `index_unique!=None` to `.concatenate`.\n"
     ]
    },
    {
     "name": "stdout",
     "output_type": "stream",
     "text": [
      "Cutoff for CD20barcode2: 3127 reads\n"
     ]
    },
    {
     "name": "stderr",
     "output_type": "stream",
     "text": [
      "Observation names are not unique. To make them unique, call `.obs_names_make_unique`.\n",
      "Or pass `index_unique!=None` to `.concatenate`.\n"
     ]
    },
    {
     "name": "stdout",
     "output_type": "stream",
     "text": [
      "Cutoff for CD20barcode3: 327 reads\n"
     ]
    },
    {
     "name": "stderr",
     "output_type": "stream",
     "text": [
      "Observation names are not unique. To make them unique, call `.obs_names_make_unique`.\n",
      "Or pass `index_unique!=None` to `.concatenate`.\n"
     ]
    },
    {
     "name": "stdout",
     "output_type": "stream",
     "text": [
      "Cutoff for CD20barcode4: 1568 reads\n"
     ]
    },
    {
     "name": "stderr",
     "output_type": "stream",
     "text": [
      "Observation names are not unique. To make them unique, call `.obs_names_make_unique`.\n",
      "Or pass `index_unique!=None` to `.concatenate`.\n"
     ]
    },
    {
     "name": "stdout",
     "output_type": "stream",
     "text": [
      "Cutoff for CD20barcode5: 1810 reads\n",
      "Keeping sparse matrix with antibody expression only. Target = self.input\n",
      "Assigning best guesses\n"
     ]
    }
   ],
   "source": [
    "lol_2 = lol.resolveMux(batchid_string=\"barcode\",\n",
    "                        positiveQuantile=0.99,\n",
    "                        n_clust=None,\n",
    "                        n_init=100,\n",
    "                        kfunc=\"kmeans\",\n",
    "                        maxneighbor=100,\n",
    "                        seed=33,\n",
    "                        keep_input=True,\n",
    "                        collapse=False,\n",
    "                        verbose=True)"
   ]
  },
  {
   "cell_type": "code",
   "execution_count": 18,
   "metadata": {},
   "outputs": [
    {
     "data": {
      "text/plain": [
       "matrix([[268.,   0.,   0.,   0.,   0.],\n",
       "        [247.,   0.,   0.,   0.,   0.],\n",
       "        [250.,   0.,   0.,   0.,   0.],\n",
       "        [319.,   0.,   0.,   0.,   0.],\n",
       "        [258.,   0.,   0.,   0.,   0.]], dtype=float32)"
      ]
     },
     "execution_count": 18,
     "metadata": {},
     "output_type": "execute_result"
    }
   ],
   "source": [
    "lol_2.X.todense()[:5,:5]"
   ]
  },
  {
   "cell_type": "code",
   "execution_count": 26,
   "metadata": {},
   "outputs": [
    {
     "data": {
      "text/plain": [
       "<59434x10 sparse matrix of type '<class 'numpy.float32'>'\n",
       "\twith 109045 stored elements in Compressed Sparse Row format>"
      ]
     },
     "execution_count": 26,
     "metadata": {},
     "output_type": "execute_result"
    }
   ],
   "source": [
    "lol.discrete.X"
   ]
  },
  {
   "cell_type": "code",
   "execution_count": 23,
   "metadata": {},
   "outputs": [
    {
     "data": {
      "text/plain": [
       "matrix([[268.,   0.,   0., ...,   0.,   0.,   0.],\n",
       "        [247.,   0.,   0., ...,   0.,   0.,   0.],\n",
       "        [250.,   0.,   0., ...,   0.,   0.,   0.],\n",
       "        ...,\n",
       "        [  0.,   0.,   0., ...,   0.,   0., 392.],\n",
       "        [  0.,   0.,   0., ...,   0.,   0., 540.],\n",
       "        [  0.,   0.,   0., ...,   0.,   0., 325.]], dtype=float32)"
      ]
     },
     "execution_count": 23,
     "metadata": {},
     "output_type": "execute_result"
    }
   ],
   "source": [
    "lol_2.X.todense()"
   ]
  },
  {
   "cell_type": "code",
   "execution_count": 29,
   "metadata": {},
   "outputs": [],
   "source": [
    "scipy.io.mmwrite(\"200k_TB_discrete.mtx\", lol.discrete.X)"
   ]
  },
  {
   "cell_type": "code",
   "execution_count": null,
   "metadata": {},
   "outputs": [],
   "source": []
  }
 ],
 "metadata": {
  "kernelspec": {
   "display_name": "Python 3",
   "language": "python",
   "name": "python3"
  },
  "language_info": {
   "codemirror_mode": {
    "name": "ipython",
    "version": 3
   },
   "file_extension": ".py",
   "mimetype": "text/x-python",
   "name": "python",
   "nbconvert_exporter": "python",
   "pygments_lexer": "ipython3",
   "version": "3.7.6"
  }
 },
 "nbformat": 4,
 "nbformat_minor": 4
}

{
 "cells": [
  {
   "cell_type": "markdown",
   "metadata": {},
   "source": [
    "# Classification test  \n",
    "Compare `HTODemux` vs `scito.preprocess.ScitoFrame.resolveMux` classification"
   ]
  },
  {
   "cell_type": "code",
   "execution_count": 1,
   "metadata": {},
   "outputs": [
    {
     "name": "stderr",
     "output_type": "stream",
     "text": [
      "/Users/antonogorodnikov/anaconda3/envs/scito/lib/python3.7/site-packages/anndata/_core/anndata.py:21: FutureWarning: pandas.core.index is deprecated and will be removed in a future version.  The public classes are available in the top-level namespace.\n",
      "  from pandas.core.index import RangeIndex\n"
     ]
    }
   ],
   "source": [
    "from scito import preprocess\n",
    "import seaborn as sns\n",
    "import scanpy as sc\n",
    "import pandas as pd\n",
    "import re\n",
    "import numpy as np\n",
    "import matplotlib.pyplot as plt\n",
    "import time\n"
   ]
  },
  {
   "cell_type": "code",
   "execution_count": 2,
   "metadata": {},
   "outputs": [],
   "source": [
    "path = '/Users/antonogorodnikov/Documents/Work/DataSci/SCITO-seq/tests/100k_filtered_feature_bc_matrix.h5'\n",
    "verbose = True"
   ]
  },
  {
   "cell_type": "code",
   "execution_count": 3,
   "metadata": {},
   "outputs": [
    {
     "name": "stderr",
     "output_type": "stream",
     "text": [
      "Variable names are not unique. To make them unique, call `.var_names_make_unique`.\n"
     ]
    }
   ],
   "source": [
    "adata = sc.read_10x_h5(path, gex_only=False)"
   ]
  },
  {
   "cell_type": "code",
   "execution_count": 4,
   "metadata": {},
   "outputs": [],
   "source": [
    "corr_var = pd.read_csv(\"/Users/antonogorodnikov/Documents/Work/DataSci/SCITO-seq/tests/var.csv\", index_col=0)"
   ]
  },
  {
   "cell_type": "code",
   "execution_count": 5,
   "metadata": {},
   "outputs": [],
   "source": [
    "adata.var = corr_var"
   ]
  },
  {
   "cell_type": "code",
   "execution_count": 6,
   "metadata": {},
   "outputs": [
    {
     "name": "stderr",
     "output_type": "stream",
     "text": [
      "Variable names are not unique. To make them unique, call `.var_names_make_unique`.\n",
      "/Users/antonogorodnikov/anaconda3/envs/scito/lib/python3.7/site-packages/pandas/core/strings.py:1952: UserWarning: This pattern has match groups. To actually get the groups, use str.extract.\n",
      "  return func(self, *args, **kwargs)\n",
      "Transforming to str index.\n"
     ]
    },
    {
     "name": "stdout",
     "output_type": "stream",
     "text": [
      "Keeping linear scale data for computing average\n",
      "Performing k-means clustering\n"
     ]
    },
    {
     "name": "stderr",
     "output_type": "stream",
     "text": [
      "Transforming to str index.\n",
      "/Users/antonogorodnikov/anaconda3/envs/scito/lib/python3.7/site-packages/pandas/core/strings.py:1952: UserWarning: This pattern has match groups. To actually get the groups, use str.extract.\n",
      "  return func(self, *args, **kwargs)\n",
      "/Users/antonogorodnikov/anaconda3/envs/scito/lib/python3.7/site-packages/scipy/sparse/_index.py:126: SparseEfficiencyWarning: Changing the sparsity structure of a csr_matrix is expensive. lil_matrix is more efficient.\n",
      "  self._set_arrayXarray(i, j, x)\n"
     ]
    },
    {
     "name": "stdout",
     "output_type": "stream",
     "text": [
      "Cutoff for barcode1: 1233 reads\n",
      "Cutoff for barcode2: 241 reads\n"
     ]
    },
    {
     "name": "stderr",
     "output_type": "stream",
     "text": [
      "Observation names are not unique. To make them unique, call `.obs_names_make_unique`.\n",
      "Or pass `index_unique!=None` to `.concatenate`.\n"
     ]
    },
    {
     "name": "stdout",
     "output_type": "stream",
     "text": [
      "Cutoff for barcode3: 90 reads\n"
     ]
    },
    {
     "name": "stderr",
     "output_type": "stream",
     "text": [
      "Observation names are not unique. To make them unique, call `.obs_names_make_unique`.\n",
      "Or pass `index_unique!=None` to `.concatenate`.\n"
     ]
    },
    {
     "name": "stdout",
     "output_type": "stream",
     "text": [
      "Cutoff for barcode4: 273 reads\n"
     ]
    },
    {
     "name": "stderr",
     "output_type": "stream",
     "text": [
      "Observation names are not unique. To make them unique, call `.obs_names_make_unique`.\n",
      "Or pass `index_unique!=None` to `.concatenate`.\n"
     ]
    },
    {
     "name": "stdout",
     "output_type": "stream",
     "text": [
      "Cutoff for barcode5: 388 reads\n"
     ]
    },
    {
     "name": "stderr",
     "output_type": "stream",
     "text": [
      "Observation names are not unique. To make them unique, call `.obs_names_make_unique`.\n",
      "Or pass `index_unique!=None` to `.concatenate`.\n"
     ]
    },
    {
     "name": "stdout",
     "output_type": "stream",
     "text": [
      "Cutoff for barcode6: 357 reads\n"
     ]
    },
    {
     "name": "stderr",
     "output_type": "stream",
     "text": [
      "Observation names are not unique. To make them unique, call `.obs_names_make_unique`.\n",
      "Or pass `index_unique!=None` to `.concatenate`.\n"
     ]
    },
    {
     "name": "stdout",
     "output_type": "stream",
     "text": [
      "Cutoff for barcode7: 324 reads\n"
     ]
    },
    {
     "name": "stderr",
     "output_type": "stream",
     "text": [
      "Observation names are not unique. To make them unique, call `.obs_names_make_unique`.\n",
      "Or pass `index_unique!=None` to `.concatenate`.\n"
     ]
    },
    {
     "name": "stdout",
     "output_type": "stream",
     "text": [
      "Cutoff for barcode8: 269 reads\n"
     ]
    },
    {
     "name": "stderr",
     "output_type": "stream",
     "text": [
      "Observation names are not unique. To make them unique, call `.obs_names_make_unique`.\n",
      "Or pass `index_unique!=None` to `.concatenate`.\n"
     ]
    },
    {
     "name": "stdout",
     "output_type": "stream",
     "text": [
      "Cutoff for barcode9: 758 reads\n"
     ]
    },
    {
     "name": "stderr",
     "output_type": "stream",
     "text": [
      "Observation names are not unique. To make them unique, call `.obs_names_make_unique`.\n",
      "Or pass `index_unique!=None` to `.concatenate`.\n"
     ]
    },
    {
     "name": "stdout",
     "output_type": "stream",
     "text": [
      "Cutoff for barcode10: 38 reads\n"
     ]
    },
    {
     "name": "stderr",
     "output_type": "stream",
     "text": [
      "Observation names are not unique. To make them unique, call `.obs_names_make_unique`.\n",
      "Or pass `index_unique!=None` to `.concatenate`.\n"
     ]
    },
    {
     "name": "stdout",
     "output_type": "stream",
     "text": [
      "Keeping sparse matrix with antibody expression only. Target = self.input\n",
      "Assigning best guesses\n",
      "14.913728952407837\n"
     ]
    }
   ],
   "source": [
    "# very basic benchmarking\n",
    "start = time.time()\n",
    "lol = preprocess.ScitoFrame(from_scanpy=True, adata=adata)\n",
    "lol_2 = lol.resolveMux(batchid_string=\"barcode\",\n",
    "                        positiveQuantile=0.99,\n",
    "                        n_clust=None,\n",
    "                        n_init=100,\n",
    "                        kfunc=\"kmeans\",\n",
    "                        maxneighbor=100,\n",
    "                        seed=42,\n",
    "                        keep_input=True,\n",
    "                        verbose=True)\n",
    "\n",
    "\n",
    "end = time.time()\n",
    "print(end - start)"
   ]
  },
  {
   "cell_type": "code",
   "execution_count": 7,
   "metadata": {},
   "outputs": [
    {
     "data": {
      "text/html": [
       "<div>\n",
       "<style scoped>\n",
       "    .dataframe tbody tr th:only-of-type {\n",
       "        vertical-align: middle;\n",
       "    }\n",
       "\n",
       "    .dataframe tbody tr th {\n",
       "        vertical-align: top;\n",
       "    }\n",
       "\n",
       "    .dataframe thead th {\n",
       "        text-align: right;\n",
       "    }\n",
       "</style>\n",
       "<table border=\"1\" class=\"dataframe\">\n",
       "  <thead>\n",
       "    <tr style=\"text-align: right;\">\n",
       "      <th></th>\n",
       "      <th>batch_cluster</th>\n",
       "      <th>assignment</th>\n",
       "      <th>best_guess</th>\n",
       "      <th>expression</th>\n",
       "    </tr>\n",
       "  </thead>\n",
       "  <tbody>\n",
       "    <tr>\n",
       "      <th>AAACCCAAGAAGTCTA-1</th>\n",
       "      <td>2</td>\n",
       "      <td>MTP</td>\n",
       "      <td>(barcode3, barcode2)</td>\n",
       "      <td>(2423.0, 746.0)</td>\n",
       "    </tr>\n",
       "    <tr>\n",
       "      <th>AAACCCAAGAGGTCGT-1</th>\n",
       "      <td>8</td>\n",
       "      <td>MTP</td>\n",
       "      <td>(barcode6, barcode9)</td>\n",
       "      <td>(1232.0, 586.0)</td>\n",
       "    </tr>\n",
       "    <tr>\n",
       "      <th>AAACCCAAGCATCCTA-1</th>\n",
       "      <td>8</td>\n",
       "      <td>SNG</td>\n",
       "      <td>(barcode6,)</td>\n",
       "      <td>(611.0,)</td>\n",
       "    </tr>\n",
       "    <tr>\n",
       "      <th>AAACCCAAGCATTGAA-1</th>\n",
       "      <td>5</td>\n",
       "      <td>SNG</td>\n",
       "      <td>(barcode10,)</td>\n",
       "      <td>(877.0,)</td>\n",
       "    </tr>\n",
       "    <tr>\n",
       "      <th>AAACCCAAGGAAGTGA-1</th>\n",
       "      <td>4</td>\n",
       "      <td>MTP</td>\n",
       "      <td>(barcode5, barcode6)</td>\n",
       "      <td>(701.0, 443.0)</td>\n",
       "    </tr>\n",
       "    <tr>\n",
       "      <th>...</th>\n",
       "      <td>...</td>\n",
       "      <td>...</td>\n",
       "      <td>...</td>\n",
       "      <td>...</td>\n",
       "    </tr>\n",
       "    <tr>\n",
       "      <th>TTTGTTGTCCATTTGT-1</th>\n",
       "      <td>4</td>\n",
       "      <td>SNG</td>\n",
       "      <td>(barcode5,)</td>\n",
       "      <td>(424.0,)</td>\n",
       "    </tr>\n",
       "    <tr>\n",
       "      <th>TTTGTTGTCCCAACTC-1</th>\n",
       "      <td>3</td>\n",
       "      <td>SNG</td>\n",
       "      <td>(barcode7,)</td>\n",
       "      <td>(1097.0,)</td>\n",
       "    </tr>\n",
       "    <tr>\n",
       "      <th>TTTGTTGTCCGAGGCT-1</th>\n",
       "      <td>3</td>\n",
       "      <td>SNG</td>\n",
       "      <td>(barcode1,)</td>\n",
       "      <td>(788.0,)</td>\n",
       "    </tr>\n",
       "    <tr>\n",
       "      <th>TTTGTTGTCGTTCGCT-1</th>\n",
       "      <td>0</td>\n",
       "      <td>NEG</td>\n",
       "      <td>()</td>\n",
       "      <td>()</td>\n",
       "    </tr>\n",
       "    <tr>\n",
       "      <th>TTTGTTGTCTACCCAC-1</th>\n",
       "      <td>5</td>\n",
       "      <td>SNG</td>\n",
       "      <td>(barcode10,)</td>\n",
       "      <td>(1007.0,)</td>\n",
       "    </tr>\n",
       "  </tbody>\n",
       "</table>\n",
       "<p>35371 rows × 4 columns</p>\n",
       "</div>"
      ],
      "text/plain": [
       "                    batch_cluster assignment            best_guess  \\\n",
       "AAACCCAAGAAGTCTA-1              2        MTP  (barcode3, barcode2)   \n",
       "AAACCCAAGAGGTCGT-1              8        MTP  (barcode6, barcode9)   \n",
       "AAACCCAAGCATCCTA-1              8        SNG           (barcode6,)   \n",
       "AAACCCAAGCATTGAA-1              5        SNG          (barcode10,)   \n",
       "AAACCCAAGGAAGTGA-1              4        MTP  (barcode5, barcode6)   \n",
       "...                           ...        ...                   ...   \n",
       "TTTGTTGTCCATTTGT-1              4        SNG           (barcode5,)   \n",
       "TTTGTTGTCCCAACTC-1              3        SNG           (barcode7,)   \n",
       "TTTGTTGTCCGAGGCT-1              3        SNG           (barcode1,)   \n",
       "TTTGTTGTCGTTCGCT-1              0        NEG                    ()   \n",
       "TTTGTTGTCTACCCAC-1              5        SNG          (barcode10,)   \n",
       "\n",
       "                         expression  \n",
       "AAACCCAAGAAGTCTA-1  (2423.0, 746.0)  \n",
       "AAACCCAAGAGGTCGT-1  (1232.0, 586.0)  \n",
       "AAACCCAAGCATCCTA-1         (611.0,)  \n",
       "AAACCCAAGCATTGAA-1         (877.0,)  \n",
       "AAACCCAAGGAAGTGA-1   (701.0, 443.0)  \n",
       "...                             ...  \n",
       "TTTGTTGTCCATTTGT-1         (424.0,)  \n",
       "TTTGTTGTCCCAACTC-1        (1097.0,)  \n",
       "TTTGTTGTCCGAGGCT-1         (788.0,)  \n",
       "TTTGTTGTCGTTCGCT-1               ()  \n",
       "TTTGTTGTCTACCCAC-1        (1007.0,)  \n",
       "\n",
       "[35371 rows x 4 columns]"
      ]
     },
     "execution_count": 7,
     "metadata": {},
     "output_type": "execute_result"
    }
   ],
   "source": [
    "lol.__dict__.keys()\n",
    "lol.drop_assign.obs\n",
    "scito_df = lol.drop_assign.obs\n",
    "scito_df"
   ]
  },
  {
   "cell_type": "code",
   "execution_count": 8,
   "metadata": {},
   "outputs": [
    {
     "data": {
      "text/html": [
       "<div>\n",
       "<style scoped>\n",
       "    .dataframe tbody tr th:only-of-type {\n",
       "        vertical-align: middle;\n",
       "    }\n",
       "\n",
       "    .dataframe tbody tr th {\n",
       "        vertical-align: top;\n",
       "    }\n",
       "\n",
       "    .dataframe thead th {\n",
       "        text-align: right;\n",
       "    }\n",
       "</style>\n",
       "<table border=\"1\" class=\"dataframe\">\n",
       "  <thead>\n",
       "    <tr style=\"text-align: right;\">\n",
       "      <th></th>\n",
       "      <th>best_guess</th>\n",
       "      <th>classif</th>\n",
       "    </tr>\n",
       "  </thead>\n",
       "  <tbody>\n",
       "    <tr>\n",
       "      <th>AAACCCAAGAAGTCTA-1</th>\n",
       "      <td>(barcode3, barcode2)</td>\n",
       "      <td>2.0</td>\n",
       "    </tr>\n",
       "    <tr>\n",
       "      <th>AAACCCAAGAGGTCGT-1</th>\n",
       "      <td>(barcode6, barcode9)</td>\n",
       "      <td>2.0</td>\n",
       "    </tr>\n",
       "    <tr>\n",
       "      <th>AAACCCAAGCATCCTA-1</th>\n",
       "      <td>(barcode6,)</td>\n",
       "      <td>1.0</td>\n",
       "    </tr>\n",
       "    <tr>\n",
       "      <th>AAACCCAAGCATTGAA-1</th>\n",
       "      <td>(barcode10,)</td>\n",
       "      <td>1.0</td>\n",
       "    </tr>\n",
       "    <tr>\n",
       "      <th>AAACCCAAGGAAGTGA-1</th>\n",
       "      <td>(barcode5, barcode6)</td>\n",
       "      <td>2.0</td>\n",
       "    </tr>\n",
       "    <tr>\n",
       "      <th>...</th>\n",
       "      <td>...</td>\n",
       "      <td>...</td>\n",
       "    </tr>\n",
       "    <tr>\n",
       "      <th>TTTGTTGTCCATTTGT-1</th>\n",
       "      <td>(barcode5,)</td>\n",
       "      <td>1.0</td>\n",
       "    </tr>\n",
       "    <tr>\n",
       "      <th>TTTGTTGTCCCAACTC-1</th>\n",
       "      <td>(barcode7,)</td>\n",
       "      <td>1.0</td>\n",
       "    </tr>\n",
       "    <tr>\n",
       "      <th>TTTGTTGTCCGAGGCT-1</th>\n",
       "      <td>(barcode1,)</td>\n",
       "      <td>1.0</td>\n",
       "    </tr>\n",
       "    <tr>\n",
       "      <th>TTTGTTGTCGTTCGCT-1</th>\n",
       "      <td>()</td>\n",
       "      <td>0.0</td>\n",
       "    </tr>\n",
       "    <tr>\n",
       "      <th>TTTGTTGTCTACCCAC-1</th>\n",
       "      <td>(barcode10,)</td>\n",
       "      <td>1.0</td>\n",
       "    </tr>\n",
       "  </tbody>\n",
       "</table>\n",
       "<p>35371 rows × 2 columns</p>\n",
       "</div>"
      ],
      "text/plain": [
       "                              best_guess  classif\n",
       "AAACCCAAGAAGTCTA-1  (barcode3, barcode2)      2.0\n",
       "AAACCCAAGAGGTCGT-1  (barcode6, barcode9)      2.0\n",
       "AAACCCAAGCATCCTA-1           (barcode6,)      1.0\n",
       "AAACCCAAGCATTGAA-1          (barcode10,)      1.0\n",
       "AAACCCAAGGAAGTGA-1  (barcode5, barcode6)      2.0\n",
       "...                                  ...      ...\n",
       "TTTGTTGTCCATTTGT-1           (barcode5,)      1.0\n",
       "TTTGTTGTCCCAACTC-1           (barcode7,)      1.0\n",
       "TTTGTTGTCCGAGGCT-1           (barcode1,)      1.0\n",
       "TTTGTTGTCGTTCGCT-1                    ()      0.0\n",
       "TTTGTTGTCTACCCAC-1          (barcode10,)      1.0\n",
       "\n",
       "[35371 rows x 2 columns]"
      ]
     },
     "execution_count": 8,
     "metadata": {},
     "output_type": "execute_result"
    }
   ],
   "source": [
    "scito_df.loc[scito_df['assignment'] == \"NEG\", 'classif'] = 0\n",
    "scito_df.loc[scito_df['assignment'] == \"SNG\", 'classif'] = 1\n",
    "scito_df.loc[scito_df['assignment'] == \"MTP\", 'classif'] = 2\n",
    "scito_df.drop(scito_df.columns[~scito_df.columns.isin(['classif','best_guess'])], axis=1, inplace=True)\n",
    "scito_df"
   ]
  },
  {
   "cell_type": "markdown",
   "metadata": {},
   "source": [
    "## Import HTODemux output"
   ]
  },
  {
   "cell_type": "code",
   "execution_count": 9,
   "metadata": {},
   "outputs": [],
   "source": [
    "hto = pd.read_csv(\"/Users/antonogorodnikov/Documents/Work/DataSci/SCITO-seq/tests/benchmark/hto_classif_1.tsv\", sep='\\t')"
   ]
  },
  {
   "cell_type": "code",
   "execution_count": 10,
   "metadata": {},
   "outputs": [
    {
     "data": {
      "text/html": [
       "<div>\n",
       "<style scoped>\n",
       "    .dataframe tbody tr th:only-of-type {\n",
       "        vertical-align: middle;\n",
       "    }\n",
       "\n",
       "    .dataframe tbody tr th {\n",
       "        vertical-align: top;\n",
       "    }\n",
       "\n",
       "    .dataframe thead th {\n",
       "        text-align: right;\n",
       "    }\n",
       "</style>\n",
       "<table border=\"1\" class=\"dataframe\">\n",
       "  <thead>\n",
       "    <tr style=\"text-align: right;\">\n",
       "      <th></th>\n",
       "      <th>orig.ident</th>\n",
       "      <th>nCount_RNA</th>\n",
       "      <th>nFeature_RNA</th>\n",
       "      <th>nCount_HTO</th>\n",
       "      <th>nFeature_HTO</th>\n",
       "      <th>HTO_maxID</th>\n",
       "      <th>HTO_secondID</th>\n",
       "      <th>HTO_margin</th>\n",
       "      <th>HTO_classification</th>\n",
       "      <th>HTO_classification.global</th>\n",
       "      <th>hash.ID</th>\n",
       "    </tr>\n",
       "  </thead>\n",
       "  <tbody>\n",
       "    <tr>\n",
       "      <th>0</th>\n",
       "      <td>SeuratProject</td>\n",
       "      <td>3470</td>\n",
       "      <td>177</td>\n",
       "      <td>3470</td>\n",
       "      <td>10</td>\n",
       "      <td>Batch3</td>\n",
       "      <td>Batch2</td>\n",
       "      <td>1.177714</td>\n",
       "      <td>Batch2_Batch3</td>\n",
       "      <td>Doublet</td>\n",
       "      <td>Doublet</td>\n",
       "    </tr>\n",
       "    <tr>\n",
       "      <th>1</th>\n",
       "      <td>SeuratProject</td>\n",
       "      <td>2601</td>\n",
       "      <td>159</td>\n",
       "      <td>2601</td>\n",
       "      <td>10</td>\n",
       "      <td>Batch6</td>\n",
       "      <td>Batch9</td>\n",
       "      <td>0.742842</td>\n",
       "      <td>Batch6_Batch9</td>\n",
       "      <td>Doublet</td>\n",
       "      <td>Doublet</td>\n",
       "    </tr>\n",
       "    <tr>\n",
       "      <th>2</th>\n",
       "      <td>SeuratProject</td>\n",
       "      <td>905</td>\n",
       "      <td>152</td>\n",
       "      <td>905</td>\n",
       "      <td>10</td>\n",
       "      <td>Batch6</td>\n",
       "      <td>Batch3</td>\n",
       "      <td>2.209203</td>\n",
       "      <td>Batch6</td>\n",
       "      <td>Singlet</td>\n",
       "      <td>Batch6</td>\n",
       "    </tr>\n",
       "    <tr>\n",
       "      <th>3</th>\n",
       "      <td>SeuratProject</td>\n",
       "      <td>1256</td>\n",
       "      <td>176</td>\n",
       "      <td>1256</td>\n",
       "      <td>10</td>\n",
       "      <td>Batch10</td>\n",
       "      <td>Batch3</td>\n",
       "      <td>2.647492</td>\n",
       "      <td>Batch10</td>\n",
       "      <td>Singlet</td>\n",
       "      <td>Batch10</td>\n",
       "    </tr>\n",
       "    <tr>\n",
       "      <th>4</th>\n",
       "      <td>SeuratProject</td>\n",
       "      <td>1587</td>\n",
       "      <td>197</td>\n",
       "      <td>1587</td>\n",
       "      <td>10</td>\n",
       "      <td>Batch5</td>\n",
       "      <td>Batch6</td>\n",
       "      <td>0.458806</td>\n",
       "      <td>Batch5_Batch6</td>\n",
       "      <td>Doublet</td>\n",
       "      <td>Doublet</td>\n",
       "    </tr>\n",
       "    <tr>\n",
       "      <th>...</th>\n",
       "      <td>...</td>\n",
       "      <td>...</td>\n",
       "      <td>...</td>\n",
       "      <td>...</td>\n",
       "      <td>...</td>\n",
       "      <td>...</td>\n",
       "      <td>...</td>\n",
       "      <td>...</td>\n",
       "      <td>...</td>\n",
       "      <td>...</td>\n",
       "      <td>...</td>\n",
       "    </tr>\n",
       "    <tr>\n",
       "      <th>35366</th>\n",
       "      <td>SeuratProject</td>\n",
       "      <td>727</td>\n",
       "      <td>160</td>\n",
       "      <td>727</td>\n",
       "      <td>10</td>\n",
       "      <td>Batch5</td>\n",
       "      <td>Batch1</td>\n",
       "      <td>2.198212</td>\n",
       "      <td>Negative</td>\n",
       "      <td>Negative</td>\n",
       "      <td>Negative</td>\n",
       "    </tr>\n",
       "    <tr>\n",
       "      <th>35367</th>\n",
       "      <td>SeuratProject</td>\n",
       "      <td>1541</td>\n",
       "      <td>165</td>\n",
       "      <td>1541</td>\n",
       "      <td>10</td>\n",
       "      <td>Batch7</td>\n",
       "      <td>Batch4</td>\n",
       "      <td>2.236985</td>\n",
       "      <td>Batch7</td>\n",
       "      <td>Singlet</td>\n",
       "      <td>Batch7</td>\n",
       "    </tr>\n",
       "    <tr>\n",
       "      <th>35368</th>\n",
       "      <td>SeuratProject</td>\n",
       "      <td>1611</td>\n",
       "      <td>165</td>\n",
       "      <td>1611</td>\n",
       "      <td>10</td>\n",
       "      <td>Batch1</td>\n",
       "      <td>Batch7</td>\n",
       "      <td>0.284236</td>\n",
       "      <td>Batch1</td>\n",
       "      <td>Singlet</td>\n",
       "      <td>Batch1</td>\n",
       "    </tr>\n",
       "    <tr>\n",
       "      <th>35369</th>\n",
       "      <td>SeuratProject</td>\n",
       "      <td>1016</td>\n",
       "      <td>143</td>\n",
       "      <td>1016</td>\n",
       "      <td>10</td>\n",
       "      <td>Batch1</td>\n",
       "      <td>Batch6</td>\n",
       "      <td>3.061030</td>\n",
       "      <td>Negative</td>\n",
       "      <td>Negative</td>\n",
       "      <td>Negative</td>\n",
       "    </tr>\n",
       "    <tr>\n",
       "      <th>35370</th>\n",
       "      <td>SeuratProject</td>\n",
       "      <td>1334</td>\n",
       "      <td>161</td>\n",
       "      <td>1334</td>\n",
       "      <td>10</td>\n",
       "      <td>Batch10</td>\n",
       "      <td>Batch1</td>\n",
       "      <td>3.061881</td>\n",
       "      <td>Batch10</td>\n",
       "      <td>Singlet</td>\n",
       "      <td>Batch10</td>\n",
       "    </tr>\n",
       "  </tbody>\n",
       "</table>\n",
       "<p>35371 rows × 11 columns</p>\n",
       "</div>"
      ],
      "text/plain": [
       "          orig.ident  nCount_RNA  nFeature_RNA  nCount_HTO  nFeature_HTO  \\\n",
       "0      SeuratProject        3470           177        3470            10   \n",
       "1      SeuratProject        2601           159        2601            10   \n",
       "2      SeuratProject         905           152         905            10   \n",
       "3      SeuratProject        1256           176        1256            10   \n",
       "4      SeuratProject        1587           197        1587            10   \n",
       "...              ...         ...           ...         ...           ...   \n",
       "35366  SeuratProject         727           160         727            10   \n",
       "35367  SeuratProject        1541           165        1541            10   \n",
       "35368  SeuratProject        1611           165        1611            10   \n",
       "35369  SeuratProject        1016           143        1016            10   \n",
       "35370  SeuratProject        1334           161        1334            10   \n",
       "\n",
       "      HTO_maxID HTO_secondID  HTO_margin HTO_classification  \\\n",
       "0        Batch3       Batch2    1.177714      Batch2_Batch3   \n",
       "1        Batch6       Batch9    0.742842      Batch6_Batch9   \n",
       "2        Batch6       Batch3    2.209203             Batch6   \n",
       "3       Batch10       Batch3    2.647492            Batch10   \n",
       "4        Batch5       Batch6    0.458806      Batch5_Batch6   \n",
       "...         ...          ...         ...                ...   \n",
       "35366    Batch5       Batch1    2.198212           Negative   \n",
       "35367    Batch7       Batch4    2.236985             Batch7   \n",
       "35368    Batch1       Batch7    0.284236             Batch1   \n",
       "35369    Batch1       Batch6    3.061030           Negative   \n",
       "35370   Batch10       Batch1    3.061881            Batch10   \n",
       "\n",
       "      HTO_classification.global   hash.ID  \n",
       "0                       Doublet   Doublet  \n",
       "1                       Doublet   Doublet  \n",
       "2                       Singlet    Batch6  \n",
       "3                       Singlet   Batch10  \n",
       "4                       Doublet   Doublet  \n",
       "...                         ...       ...  \n",
       "35366                  Negative  Negative  \n",
       "35367                   Singlet    Batch7  \n",
       "35368                   Singlet    Batch1  \n",
       "35369                  Negative  Negative  \n",
       "35370                   Singlet   Batch10  \n",
       "\n",
       "[35371 rows x 11 columns]"
      ]
     },
     "execution_count": 10,
     "metadata": {},
     "output_type": "execute_result"
    }
   ],
   "source": [
    "hto"
   ]
  },
  {
   "cell_type": "code",
   "execution_count": 11,
   "metadata": {},
   "outputs": [],
   "source": [
    "hto.index = lol.drop_assign.obs.index"
   ]
  },
  {
   "cell_type": "code",
   "execution_count": 12,
   "metadata": {},
   "outputs": [
    {
     "data": {
      "text/html": [
       "<div>\n",
       "<style scoped>\n",
       "    .dataframe tbody tr th:only-of-type {\n",
       "        vertical-align: middle;\n",
       "    }\n",
       "\n",
       "    .dataframe tbody tr th {\n",
       "        vertical-align: top;\n",
       "    }\n",
       "\n",
       "    .dataframe thead th {\n",
       "        text-align: right;\n",
       "    }\n",
       "</style>\n",
       "<table border=\"1\" class=\"dataframe\">\n",
       "  <thead>\n",
       "    <tr style=\"text-align: right;\">\n",
       "      <th></th>\n",
       "      <th>orig.ident</th>\n",
       "      <th>nCount_RNA</th>\n",
       "      <th>nFeature_RNA</th>\n",
       "      <th>nCount_HTO</th>\n",
       "      <th>nFeature_HTO</th>\n",
       "      <th>HTO_maxID</th>\n",
       "      <th>HTO_secondID</th>\n",
       "      <th>HTO_margin</th>\n",
       "      <th>HTO_classification</th>\n",
       "      <th>HTO_classification.global</th>\n",
       "      <th>hash.ID</th>\n",
       "    </tr>\n",
       "  </thead>\n",
       "  <tbody>\n",
       "    <tr>\n",
       "      <th>AAACCCAAGAAGTCTA-1</th>\n",
       "      <td>SeuratProject</td>\n",
       "      <td>3470</td>\n",
       "      <td>177</td>\n",
       "      <td>3470</td>\n",
       "      <td>10</td>\n",
       "      <td>Batch3</td>\n",
       "      <td>Batch2</td>\n",
       "      <td>1.177714</td>\n",
       "      <td>Batch2_Batch3</td>\n",
       "      <td>Doublet</td>\n",
       "      <td>Doublet</td>\n",
       "    </tr>\n",
       "    <tr>\n",
       "      <th>AAACCCAAGAGGTCGT-1</th>\n",
       "      <td>SeuratProject</td>\n",
       "      <td>2601</td>\n",
       "      <td>159</td>\n",
       "      <td>2601</td>\n",
       "      <td>10</td>\n",
       "      <td>Batch6</td>\n",
       "      <td>Batch9</td>\n",
       "      <td>0.742842</td>\n",
       "      <td>Batch6_Batch9</td>\n",
       "      <td>Doublet</td>\n",
       "      <td>Doublet</td>\n",
       "    </tr>\n",
       "    <tr>\n",
       "      <th>AAACCCAAGCATCCTA-1</th>\n",
       "      <td>SeuratProject</td>\n",
       "      <td>905</td>\n",
       "      <td>152</td>\n",
       "      <td>905</td>\n",
       "      <td>10</td>\n",
       "      <td>Batch6</td>\n",
       "      <td>Batch3</td>\n",
       "      <td>2.209203</td>\n",
       "      <td>Batch6</td>\n",
       "      <td>Singlet</td>\n",
       "      <td>Batch6</td>\n",
       "    </tr>\n",
       "    <tr>\n",
       "      <th>AAACCCAAGCATTGAA-1</th>\n",
       "      <td>SeuratProject</td>\n",
       "      <td>1256</td>\n",
       "      <td>176</td>\n",
       "      <td>1256</td>\n",
       "      <td>10</td>\n",
       "      <td>Batch10</td>\n",
       "      <td>Batch3</td>\n",
       "      <td>2.647492</td>\n",
       "      <td>Batch10</td>\n",
       "      <td>Singlet</td>\n",
       "      <td>Batch10</td>\n",
       "    </tr>\n",
       "    <tr>\n",
       "      <th>AAACCCAAGGAAGTGA-1</th>\n",
       "      <td>SeuratProject</td>\n",
       "      <td>1587</td>\n",
       "      <td>197</td>\n",
       "      <td>1587</td>\n",
       "      <td>10</td>\n",
       "      <td>Batch5</td>\n",
       "      <td>Batch6</td>\n",
       "      <td>0.458806</td>\n",
       "      <td>Batch5_Batch6</td>\n",
       "      <td>Doublet</td>\n",
       "      <td>Doublet</td>\n",
       "    </tr>\n",
       "    <tr>\n",
       "      <th>...</th>\n",
       "      <td>...</td>\n",
       "      <td>...</td>\n",
       "      <td>...</td>\n",
       "      <td>...</td>\n",
       "      <td>...</td>\n",
       "      <td>...</td>\n",
       "      <td>...</td>\n",
       "      <td>...</td>\n",
       "      <td>...</td>\n",
       "      <td>...</td>\n",
       "      <td>...</td>\n",
       "    </tr>\n",
       "    <tr>\n",
       "      <th>TTTGTTGTCCATTTGT-1</th>\n",
       "      <td>SeuratProject</td>\n",
       "      <td>727</td>\n",
       "      <td>160</td>\n",
       "      <td>727</td>\n",
       "      <td>10</td>\n",
       "      <td>Batch5</td>\n",
       "      <td>Batch1</td>\n",
       "      <td>2.198212</td>\n",
       "      <td>Negative</td>\n",
       "      <td>Negative</td>\n",
       "      <td>Negative</td>\n",
       "    </tr>\n",
       "    <tr>\n",
       "      <th>TTTGTTGTCCCAACTC-1</th>\n",
       "      <td>SeuratProject</td>\n",
       "      <td>1541</td>\n",
       "      <td>165</td>\n",
       "      <td>1541</td>\n",
       "      <td>10</td>\n",
       "      <td>Batch7</td>\n",
       "      <td>Batch4</td>\n",
       "      <td>2.236985</td>\n",
       "      <td>Batch7</td>\n",
       "      <td>Singlet</td>\n",
       "      <td>Batch7</td>\n",
       "    </tr>\n",
       "    <tr>\n",
       "      <th>TTTGTTGTCCGAGGCT-1</th>\n",
       "      <td>SeuratProject</td>\n",
       "      <td>1611</td>\n",
       "      <td>165</td>\n",
       "      <td>1611</td>\n",
       "      <td>10</td>\n",
       "      <td>Batch1</td>\n",
       "      <td>Batch7</td>\n",
       "      <td>0.284236</td>\n",
       "      <td>Batch1</td>\n",
       "      <td>Singlet</td>\n",
       "      <td>Batch1</td>\n",
       "    </tr>\n",
       "    <tr>\n",
       "      <th>TTTGTTGTCGTTCGCT-1</th>\n",
       "      <td>SeuratProject</td>\n",
       "      <td>1016</td>\n",
       "      <td>143</td>\n",
       "      <td>1016</td>\n",
       "      <td>10</td>\n",
       "      <td>Batch1</td>\n",
       "      <td>Batch6</td>\n",
       "      <td>3.061030</td>\n",
       "      <td>Negative</td>\n",
       "      <td>Negative</td>\n",
       "      <td>Negative</td>\n",
       "    </tr>\n",
       "    <tr>\n",
       "      <th>TTTGTTGTCTACCCAC-1</th>\n",
       "      <td>SeuratProject</td>\n",
       "      <td>1334</td>\n",
       "      <td>161</td>\n",
       "      <td>1334</td>\n",
       "      <td>10</td>\n",
       "      <td>Batch10</td>\n",
       "      <td>Batch1</td>\n",
       "      <td>3.061881</td>\n",
       "      <td>Batch10</td>\n",
       "      <td>Singlet</td>\n",
       "      <td>Batch10</td>\n",
       "    </tr>\n",
       "  </tbody>\n",
       "</table>\n",
       "<p>35371 rows × 11 columns</p>\n",
       "</div>"
      ],
      "text/plain": [
       "                       orig.ident  nCount_RNA  nFeature_RNA  nCount_HTO  \\\n",
       "AAACCCAAGAAGTCTA-1  SeuratProject        3470           177        3470   \n",
       "AAACCCAAGAGGTCGT-1  SeuratProject        2601           159        2601   \n",
       "AAACCCAAGCATCCTA-1  SeuratProject         905           152         905   \n",
       "AAACCCAAGCATTGAA-1  SeuratProject        1256           176        1256   \n",
       "AAACCCAAGGAAGTGA-1  SeuratProject        1587           197        1587   \n",
       "...                           ...         ...           ...         ...   \n",
       "TTTGTTGTCCATTTGT-1  SeuratProject         727           160         727   \n",
       "TTTGTTGTCCCAACTC-1  SeuratProject        1541           165        1541   \n",
       "TTTGTTGTCCGAGGCT-1  SeuratProject        1611           165        1611   \n",
       "TTTGTTGTCGTTCGCT-1  SeuratProject        1016           143        1016   \n",
       "TTTGTTGTCTACCCAC-1  SeuratProject        1334           161        1334   \n",
       "\n",
       "                    nFeature_HTO HTO_maxID HTO_secondID  HTO_margin  \\\n",
       "AAACCCAAGAAGTCTA-1            10    Batch3       Batch2    1.177714   \n",
       "AAACCCAAGAGGTCGT-1            10    Batch6       Batch9    0.742842   \n",
       "AAACCCAAGCATCCTA-1            10    Batch6       Batch3    2.209203   \n",
       "AAACCCAAGCATTGAA-1            10   Batch10       Batch3    2.647492   \n",
       "AAACCCAAGGAAGTGA-1            10    Batch5       Batch6    0.458806   \n",
       "...                          ...       ...          ...         ...   \n",
       "TTTGTTGTCCATTTGT-1            10    Batch5       Batch1    2.198212   \n",
       "TTTGTTGTCCCAACTC-1            10    Batch7       Batch4    2.236985   \n",
       "TTTGTTGTCCGAGGCT-1            10    Batch1       Batch7    0.284236   \n",
       "TTTGTTGTCGTTCGCT-1            10    Batch1       Batch6    3.061030   \n",
       "TTTGTTGTCTACCCAC-1            10   Batch10       Batch1    3.061881   \n",
       "\n",
       "                   HTO_classification HTO_classification.global   hash.ID  \n",
       "AAACCCAAGAAGTCTA-1      Batch2_Batch3                   Doublet   Doublet  \n",
       "AAACCCAAGAGGTCGT-1      Batch6_Batch9                   Doublet   Doublet  \n",
       "AAACCCAAGCATCCTA-1             Batch6                   Singlet    Batch6  \n",
       "AAACCCAAGCATTGAA-1            Batch10                   Singlet   Batch10  \n",
       "AAACCCAAGGAAGTGA-1      Batch5_Batch6                   Doublet   Doublet  \n",
       "...                               ...                       ...       ...  \n",
       "TTTGTTGTCCATTTGT-1           Negative                  Negative  Negative  \n",
       "TTTGTTGTCCCAACTC-1             Batch7                   Singlet    Batch7  \n",
       "TTTGTTGTCCGAGGCT-1             Batch1                   Singlet    Batch1  \n",
       "TTTGTTGTCGTTCGCT-1           Negative                  Negative  Negative  \n",
       "TTTGTTGTCTACCCAC-1            Batch10                   Singlet   Batch10  \n",
       "\n",
       "[35371 rows x 11 columns]"
      ]
     },
     "execution_count": 12,
     "metadata": {},
     "output_type": "execute_result"
    }
   ],
   "source": [
    "hto"
   ]
  },
  {
   "cell_type": "markdown",
   "metadata": {},
   "source": [
    "## Use HTODemux output as ground truth and extimate precision and recall"
   ]
  },
  {
   "cell_type": "code",
   "execution_count": 13,
   "metadata": {},
   "outputs": [],
   "source": [
    "hto.loc[hto['HTO_classification.global'] == \"Negative\", 'classif'] = 0\n",
    "hto.loc[hto['HTO_classification.global'] == \"Singlet\", 'classif'] = 1\n",
    "hto.loc[hto['HTO_classification.global'] == \"Doublet\", 'classif'] = 2\n",
    "hto.drop(hto.columns[~hto.columns.isin(['classif','HTO_classification'])], axis=1, inplace=True)\n",
    "hto['best'] = hto['HTO_classification'].str.split(pat='_')"
   ]
  },
  {
   "cell_type": "code",
   "execution_count": 14,
   "metadata": {},
   "outputs": [
    {
     "data": {
      "text/html": [
       "<div>\n",
       "<style scoped>\n",
       "    .dataframe tbody tr th:only-of-type {\n",
       "        vertical-align: middle;\n",
       "    }\n",
       "\n",
       "    .dataframe tbody tr th {\n",
       "        vertical-align: top;\n",
       "    }\n",
       "\n",
       "    .dataframe thead th {\n",
       "        text-align: right;\n",
       "    }\n",
       "</style>\n",
       "<table border=\"1\" class=\"dataframe\">\n",
       "  <thead>\n",
       "    <tr style=\"text-align: right;\">\n",
       "      <th></th>\n",
       "      <th>HTO_classification</th>\n",
       "      <th>classif</th>\n",
       "      <th>best</th>\n",
       "    </tr>\n",
       "  </thead>\n",
       "  <tbody>\n",
       "    <tr>\n",
       "      <th>AAACCCAAGAAGTCTA-1</th>\n",
       "      <td>Batch2_Batch3</td>\n",
       "      <td>2.0</td>\n",
       "      <td>[Batch2, Batch3]</td>\n",
       "    </tr>\n",
       "    <tr>\n",
       "      <th>AAACCCAAGAGGTCGT-1</th>\n",
       "      <td>Batch6_Batch9</td>\n",
       "      <td>2.0</td>\n",
       "      <td>[Batch6, Batch9]</td>\n",
       "    </tr>\n",
       "    <tr>\n",
       "      <th>AAACCCAAGCATCCTA-1</th>\n",
       "      <td>Batch6</td>\n",
       "      <td>1.0</td>\n",
       "      <td>[Batch6]</td>\n",
       "    </tr>\n",
       "    <tr>\n",
       "      <th>AAACCCAAGCATTGAA-1</th>\n",
       "      <td>Batch10</td>\n",
       "      <td>1.0</td>\n",
       "      <td>[Batch10]</td>\n",
       "    </tr>\n",
       "    <tr>\n",
       "      <th>AAACCCAAGGAAGTGA-1</th>\n",
       "      <td>Batch5_Batch6</td>\n",
       "      <td>2.0</td>\n",
       "      <td>[Batch5, Batch6]</td>\n",
       "    </tr>\n",
       "    <tr>\n",
       "      <th>...</th>\n",
       "      <td>...</td>\n",
       "      <td>...</td>\n",
       "      <td>...</td>\n",
       "    </tr>\n",
       "    <tr>\n",
       "      <th>TTTGTTGTCCATTTGT-1</th>\n",
       "      <td>Negative</td>\n",
       "      <td>0.0</td>\n",
       "      <td>[Negative]</td>\n",
       "    </tr>\n",
       "    <tr>\n",
       "      <th>TTTGTTGTCCCAACTC-1</th>\n",
       "      <td>Batch7</td>\n",
       "      <td>1.0</td>\n",
       "      <td>[Batch7]</td>\n",
       "    </tr>\n",
       "    <tr>\n",
       "      <th>TTTGTTGTCCGAGGCT-1</th>\n",
       "      <td>Batch1</td>\n",
       "      <td>1.0</td>\n",
       "      <td>[Batch1]</td>\n",
       "    </tr>\n",
       "    <tr>\n",
       "      <th>TTTGTTGTCGTTCGCT-1</th>\n",
       "      <td>Negative</td>\n",
       "      <td>0.0</td>\n",
       "      <td>[Negative]</td>\n",
       "    </tr>\n",
       "    <tr>\n",
       "      <th>TTTGTTGTCTACCCAC-1</th>\n",
       "      <td>Batch10</td>\n",
       "      <td>1.0</td>\n",
       "      <td>[Batch10]</td>\n",
       "    </tr>\n",
       "  </tbody>\n",
       "</table>\n",
       "<p>35371 rows × 3 columns</p>\n",
       "</div>"
      ],
      "text/plain": [
       "                   HTO_classification  classif              best\n",
       "AAACCCAAGAAGTCTA-1      Batch2_Batch3      2.0  [Batch2, Batch3]\n",
       "AAACCCAAGAGGTCGT-1      Batch6_Batch9      2.0  [Batch6, Batch9]\n",
       "AAACCCAAGCATCCTA-1             Batch6      1.0          [Batch6]\n",
       "AAACCCAAGCATTGAA-1            Batch10      1.0         [Batch10]\n",
       "AAACCCAAGGAAGTGA-1      Batch5_Batch6      2.0  [Batch5, Batch6]\n",
       "...                               ...      ...               ...\n",
       "TTTGTTGTCCATTTGT-1           Negative      0.0        [Negative]\n",
       "TTTGTTGTCCCAACTC-1             Batch7      1.0          [Batch7]\n",
       "TTTGTTGTCCGAGGCT-1             Batch1      1.0          [Batch1]\n",
       "TTTGTTGTCGTTCGCT-1           Negative      0.0        [Negative]\n",
       "TTTGTTGTCTACCCAC-1            Batch10      1.0         [Batch10]\n",
       "\n",
       "[35371 rows x 3 columns]"
      ]
     },
     "execution_count": 14,
     "metadata": {},
     "output_type": "execute_result"
    }
   ],
   "source": [
    "hto\n"
   ]
  },
  {
   "cell_type": "code",
   "execution_count": 15,
   "metadata": {},
   "outputs": [],
   "source": [
    "# function to parse HTO_classification and estimate number of matches\n",
    "def recaller(x, y):\n",
    "    try:\n",
    "        x_ls = [int(re.search('\\d+', i)[0]) for i in x]\n",
    "        y_ls = [int(re.search('\\d+', i)[0]) for i in y]\n",
    "    except:\n",
    "        return -1\n",
    "    \n",
    "    # recall per droplet\n",
    "    res = len([i for i in x_ls if i in y_ls]) / len(x_ls)\n",
    "    return res"
   ]
  },
  {
   "cell_type": "code",
   "execution_count": 16,
   "metadata": {},
   "outputs": [],
   "source": [
    "# function to parse hto.classif and estimate number of matches\n",
    "def classif_recaller(x_hto, y_scito):\n",
    "    if x_hto == 0:\n",
    "        return -1\n",
    "    \n",
    "    elif x_hto == y_scito:\n",
    "        return 1\n",
    "    else:\n",
    "        return 0"
   ]
  },
  {
   "cell_type": "code",
   "execution_count": 17,
   "metadata": {},
   "outputs": [],
   "source": [
    "recall = [recaller(hto.best[i], scito_df.best_guess[i]) for i in range(hto.shape[0])]"
   ]
  },
  {
   "cell_type": "code",
   "execution_count": 18,
   "metadata": {},
   "outputs": [
    {
     "data": {
      "text/plain": [
       "0.9944341953034614"
      ]
     },
     "execution_count": 18,
     "metadata": {},
     "output_type": "execute_result"
    }
   ],
   "source": [
    "batch_id_recall = np.mean([i for i in recall if i != -1])\n",
    "batch_id_recall"
   ]
  },
  {
   "cell_type": "code",
   "execution_count": 19,
   "metadata": {},
   "outputs": [],
   "source": [
    "classif_recall = [classif_recaller(hto.classif[i], scito_df.classif[i]) for i in range(hto.shape[0])]"
   ]
  },
  {
   "cell_type": "code",
   "execution_count": 20,
   "metadata": {},
   "outputs": [
    {
     "data": {
      "text/plain": [
       "0.9818642318876833"
      ]
     },
     "execution_count": 20,
     "metadata": {},
     "output_type": "execute_result"
    }
   ],
   "source": [
    "drop_recall = np.mean([i for i in classif_recall if i != -1])\n",
    "drop_recall"
   ]
  },
  {
   "cell_type": "code",
   "execution_count": 21,
   "metadata": {},
   "outputs": [],
   "source": [
    "# identify misclassification\n",
    "id_classif = [hto.classif[i] - scito_df.classif[i] for i in range(hto.shape[0])]"
   ]
  },
  {
   "cell_type": "code",
   "execution_count": 22,
   "metadata": {},
   "outputs": [
    {
     "data": {
      "text/plain": [
       "0.974300981029657"
      ]
     },
     "execution_count": 22,
     "metadata": {},
     "output_type": "execute_result"
    }
   ],
   "source": [
    "# correct classif\n",
    "id_classif.count(0)/len(id_classif)"
   ]
  },
  {
   "cell_type": "code",
   "execution_count": 23,
   "metadata": {},
   "outputs": [
    {
     "data": {
      "text/plain": [
       "0.018998614684345935"
      ]
     },
     "execution_count": 23,
     "metadata": {},
     "output_type": "execute_result"
    }
   ],
   "source": [
    "# was SNG but classified as MTP\n",
    "id_classif.count(-1)/len(id_classif)"
   ]
  },
  {
   "cell_type": "code",
   "execution_count": 24,
   "metadata": {},
   "outputs": [
    {
     "data": {
      "text/plain": [
       "0.0065307737977439145"
      ]
     },
     "execution_count": 24,
     "metadata": {},
     "output_type": "execute_result"
    }
   ],
   "source": [
    "# was MTP but classified as SNG\n",
    "id_classif.count(1)/len(id_classif)"
   ]
  },
  {
   "cell_type": "code",
   "execution_count": 25,
   "metadata": {},
   "outputs": [
    {
     "data": {
      "text/plain": [
       "0.0001696304882530887"
      ]
     },
     "execution_count": 25,
     "metadata": {},
     "output_type": "execute_result"
    }
   ],
   "source": [
    "# was NEG but classified as SNG\n",
    "id_classif.count(-2)/len(id_classif)"
   ]
  },
  {
   "cell_type": "code",
   "execution_count": 26,
   "metadata": {},
   "outputs": [
    {
     "data": {
      "text/plain": [
       "0.0"
      ]
     },
     "execution_count": 26,
     "metadata": {},
     "output_type": "execute_result"
    }
   ],
   "source": [
    "# was NEG but classified as MTP\n",
    "id_classif.count(-3)/len(id_classif)"
   ]
  },
  {
   "cell_type": "code",
   "execution_count": 27,
   "metadata": {},
   "outputs": [
    {
     "data": {
      "text/plain": [
       "1.0"
      ]
     },
     "execution_count": 27,
     "metadata": {},
     "output_type": "execute_result"
    }
   ],
   "source": [
    "id_classif.count(0)/len(id_classif) + id_classif.count(-1)/len(id_classif) + \\\n",
    "id_classif.count(1)/len(id_classif) + id_classif.count(-2)/len(id_classif) + \\\n",
    "id_classif.count(-3)/len(id_classif)"
   ]
  },
  {
   "cell_type": "code",
   "execution_count": 28,
   "metadata": {},
   "outputs": [],
   "source": [
    "misclass = pd.DataFrame({\"Type\": ['correct', 'SNG2MTP', 'MTP2SNG', 'NEG2SNG', 'NEG2MTP'],\n",
    "                        \"proportion\": [id_classif.count(0)/len(id_classif), id_classif.count(-1)/len(id_classif),\n",
    "                                       id_classif.count(1)/len(id_classif), id_classif.count(-2)/len(id_classif),\n",
    "                                       id_classif.count(-3)/len(id_classif)]})"
   ]
  },
  {
   "cell_type": "code",
   "execution_count": 29,
   "metadata": {},
   "outputs": [
    {
     "data": {
      "image/png": "[encoded data removed]",
      "text/plain": [
       "<Figure size 432x288 with 1 Axes>"
      ]
     },
     "metadata": {
      "needs_background": "light"
     },
     "output_type": "display_data"
    }
   ],
   "source": [
    "sns.set_context(\"talk\")\n",
    "sns.barplot(x = [\"Batch_ID_recall\", \"Drop_recall\"], y=[batch_id_recall, drop_recall])\n",
    "plt.title(\"Classification recall\")\n",
    "plt.show()"
   ]
  },
  {
   "cell_type": "code",
   "execution_count": 30,
   "metadata": {},
   "outputs": [
    {
     "data": {
      "text/html": [
       "<div>\n",
       "<style scoped>\n",
       "    .dataframe tbody tr th:only-of-type {\n",
       "        vertical-align: middle;\n",
       "    }\n",
       "\n",
       "    .dataframe tbody tr th {\n",
       "        vertical-align: top;\n",
       "    }\n",
       "\n",
       "    .dataframe thead th {\n",
       "        text-align: right;\n",
       "    }\n",
       "</style>\n",
       "<table border=\"1\" class=\"dataframe\">\n",
       "  <thead>\n",
       "    <tr style=\"text-align: right;\">\n",
       "      <th></th>\n",
       "      <th>Type</th>\n",
       "      <th>proportion</th>\n",
       "    </tr>\n",
       "  </thead>\n",
       "  <tbody>\n",
       "    <tr>\n",
       "      <th>0</th>\n",
       "      <td>correct</td>\n",
       "      <td>0.974301</td>\n",
       "    </tr>\n",
       "    <tr>\n",
       "      <th>1</th>\n",
       "      <td>SNG2MTP</td>\n",
       "      <td>0.018999</td>\n",
       "    </tr>\n",
       "    <tr>\n",
       "      <th>2</th>\n",
       "      <td>MTP2SNG</td>\n",
       "      <td>0.006531</td>\n",
       "    </tr>\n",
       "    <tr>\n",
       "      <th>3</th>\n",
       "      <td>NEG2SNG</td>\n",
       "      <td>0.000170</td>\n",
       "    </tr>\n",
       "    <tr>\n",
       "      <th>4</th>\n",
       "      <td>NEG2MTP</td>\n",
       "      <td>0.000000</td>\n",
       "    </tr>\n",
       "  </tbody>\n",
       "</table>\n",
       "</div>"
      ],
      "text/plain": [
       "      Type  proportion\n",
       "0  correct    0.974301\n",
       "1  SNG2MTP    0.018999\n",
       "2  MTP2SNG    0.006531\n",
       "3  NEG2SNG    0.000170\n",
       "4  NEG2MTP    0.000000"
      ]
     },
     "execution_count": 30,
     "metadata": {},
     "output_type": "execute_result"
    }
   ],
   "source": [
    "misclass"
   ]
  },
  {
   "cell_type": "code",
   "execution_count": 31,
   "metadata": {},
   "outputs": [
    {
     "data": {
      "image/png": "[encoded data removed]",
      "text/plain": [
       "<Figure size 432x288 with 1 Axes>"
      ]
     },
     "metadata": {
      "needs_background": "light"
     },
     "output_type": "display_data"
    }
   ],
   "source": [
    "sns.set_context(\"talk\")\n",
    "sns.barplot(x = \"Type\", y='proportion', data=misclass)\n",
    "plt.title(\"Drop Classification by type\")\n",
    "plt.xticks(rotation=90)\n",
    "plt.show()"
   ]
  },
  {
   "cell_type": "code",
   "execution_count": null,
   "metadata": {},
   "outputs": [],
   "source": []
  }
 ],
 "metadata": {
  "kernelspec": {
   "display_name": "Python 3",
   "language": "python",
   "name": "python3"
  },
  "language_info": {
   "codemirror_mode": {
    "name": "ipython",
    "version": 3
   },
   "file_extension": ".py",
   "mimetype": "text/x-python",
   "name": "python",
   "nbconvert_exporter": "python",
   "pygments_lexer": "ipython3",
   "version": "3.7.6"
  }
 },
 "nbformat": 4,
 "nbformat_minor": 4
}

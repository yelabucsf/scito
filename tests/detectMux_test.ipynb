{
 "cells": [
  {
   "cell_type": "code",
   "execution_count": 1,
   "metadata": {},
   "outputs": [
    {
     "name": "stderr",
     "output_type": "stream",
     "text": [
      "/Users/antonogorodnikov/anaconda3/envs/scito/lib/python3.8/site-packages/anndata/core/anndata.py:17: FutureWarning: pandas.core.index is deprecated and will be removed in a future version.  The public classes are available in the top-level namespace.\n",
      "  from pandas.core.index import RangeIndex\n"
     ]
    }
   ],
   "source": [
    "import os\n",
    "import scanpy as sc\n",
    "import numpy as np\n",
    "import multiprocessing\n",
    "import anndata\n",
    "import pandas as pd\n",
    "import seaborn as sns\n",
    "\n",
    "from sklearn.cluster import KMeans\n",
    "from scipy import sparse\n",
    "from scipy.stats import norm\n"
   ]
  },
  {
   "cell_type": "code",
   "execution_count": 2,
   "metadata": {},
   "outputs": [],
   "source": [
    "batchid_string=\"barcode\"\n",
    "positiveQuantile=0.99\n",
    "n_clust=None\n",
    "n_init=100\n",
    "kfunc=\"kmeans\"\n",
    "maxneighbor=100\n",
    "seed=33\n",
    "keep_input=True\n",
    "verbose=True"
   ]
  },
  {
   "cell_type": "code",
   "execution_count": 3,
   "metadata": {},
   "outputs": [],
   "source": [
    "path = '/Users/antonogorodnikov/Documents/Work/DataSci/SCITO-seq/tests/100k_pbmc_filtered_feature_bc_matrix.h5'\n",
    "verbose = True"
   ]
  },
  {
   "cell_type": "code",
   "execution_count": 4,
   "metadata": {},
   "outputs": [
    {
     "name": "stderr",
     "output_type": "stream",
     "text": [
      "Variable names are not unique. To make them unique, call `.var_names_make_unique`.\n"
     ]
    }
   ],
   "source": [
    "adata = sc.read_10x_h5(path, gex_only=False)"
   ]
  },
  {
   "cell_type": "code",
   "execution_count": 5,
   "metadata": {},
   "outputs": [],
   "source": [
    "corr_var = pd.read_csv(\"/Users/antonogorodnikov/Documents/Work/DataSci/SCITO-seq/tests/var.csv\", index_col=0)"
   ]
  },
  {
   "cell_type": "code",
   "execution_count": 6,
   "metadata": {},
   "outputs": [],
   "source": [
    "adata.var = corr_var"
   ]
  },
  {
   "cell_type": "code",
   "execution_count": 7,
   "metadata": {},
   "outputs": [
    {
     "data": {
      "text/html": [
       "<div>\n",
       "<style scoped>\n",
       "    .dataframe tbody tr th:only-of-type {\n",
       "        vertical-align: middle;\n",
       "    }\n",
       "\n",
       "    .dataframe tbody tr th {\n",
       "        vertical-align: top;\n",
       "    }\n",
       "\n",
       "    .dataframe thead th {\n",
       "        text-align: right;\n",
       "    }\n",
       "</style>\n",
       "<table border=\"1\" class=\"dataframe\">\n",
       "  <thead>\n",
       "    <tr style=\"text-align: right;\">\n",
       "      <th></th>\n",
       "      <th>gene_ids</th>\n",
       "      <th>feature_types</th>\n",
       "      <th>genome</th>\n",
       "    </tr>\n",
       "  </thead>\n",
       "  <tbody>\n",
       "    <tr>\n",
       "      <th>MIR1302-2HG</th>\n",
       "      <td>ENSG00000243485</td>\n",
       "      <td>Gene Expression</td>\n",
       "      <td>GRCh38</td>\n",
       "    </tr>\n",
       "    <tr>\n",
       "      <th>FAM138A</th>\n",
       "      <td>ENSG00000237613</td>\n",
       "      <td>Gene Expression</td>\n",
       "      <td>GRCh38</td>\n",
       "    </tr>\n",
       "    <tr>\n",
       "      <th>OR4F5</th>\n",
       "      <td>ENSG00000186092</td>\n",
       "      <td>Gene Expression</td>\n",
       "      <td>GRCh38</td>\n",
       "    </tr>\n",
       "    <tr>\n",
       "      <th>AL627309.1</th>\n",
       "      <td>ENSG00000238009</td>\n",
       "      <td>Gene Expression</td>\n",
       "      <td>GRCh38</td>\n",
       "    </tr>\n",
       "    <tr>\n",
       "      <th>AL627309.3</th>\n",
       "      <td>ENSG00000239945</td>\n",
       "      <td>Gene Expression</td>\n",
       "      <td>GRCh38</td>\n",
       "    </tr>\n",
       "    <tr>\n",
       "      <th>...</th>\n",
       "      <td>...</td>\n",
       "      <td>...</td>\n",
       "      <td>...</td>\n",
       "    </tr>\n",
       "    <tr>\n",
       "      <th>TCR_Va24-Ja18_barcode10</th>\n",
       "      <td>Ab10TCR_Va24-Ja18</td>\n",
       "      <td>Antibody Capture</td>\n",
       "      <td>NaN</td>\n",
       "    </tr>\n",
       "    <tr>\n",
       "      <th>CD38_barcode10</th>\n",
       "      <td>Ab10CD38</td>\n",
       "      <td>Antibody Capture</td>\n",
       "      <td>NaN</td>\n",
       "    </tr>\n",
       "    <tr>\n",
       "      <th>HLA_DR_barcode10</th>\n",
       "      <td>Ab10HLA_DR</td>\n",
       "      <td>Antibody Capture</td>\n",
       "      <td>NaN</td>\n",
       "    </tr>\n",
       "    <tr>\n",
       "      <th>PD-1_barcode10</th>\n",
       "      <td>Ab10PD-1</td>\n",
       "      <td>Antibody Capture</td>\n",
       "      <td>NaN</td>\n",
       "    </tr>\n",
       "    <tr>\n",
       "      <th>CD56_barcode10</th>\n",
       "      <td>Ab10CD56</td>\n",
       "      <td>Antibody Capture</td>\n",
       "      <td>NaN</td>\n",
       "    </tr>\n",
       "  </tbody>\n",
       "</table>\n",
       "<p>33818 rows × 3 columns</p>\n",
       "</div>"
      ],
      "text/plain": [
       "                                  gene_ids     feature_types  genome\n",
       "MIR1302-2HG                ENSG00000243485   Gene Expression  GRCh38\n",
       "FAM138A                    ENSG00000237613   Gene Expression  GRCh38\n",
       "OR4F5                      ENSG00000186092   Gene Expression  GRCh38\n",
       "AL627309.1                 ENSG00000238009   Gene Expression  GRCh38\n",
       "AL627309.3                 ENSG00000239945   Gene Expression  GRCh38\n",
       "...                                    ...               ...     ...\n",
       "TCR_Va24-Ja18_barcode10  Ab10TCR_Va24-Ja18  Antibody Capture     NaN\n",
       "CD38_barcode10                    Ab10CD38  Antibody Capture     NaN\n",
       "HLA_DR_barcode10                Ab10HLA_DR  Antibody Capture     NaN\n",
       "PD-1_barcode10                    Ab10PD-1  Antibody Capture     NaN\n",
       "CD56_barcode10                    Ab10CD56  Antibody Capture     NaN\n",
       "\n",
       "[33818 rows x 3 columns]"
      ]
     },
     "execution_count": 7,
     "metadata": {},
     "output_type": "execute_result"
    }
   ],
   "source": [
    "adata.var"
   ]
  },
  {
   "cell_type": "code",
   "execution_count": 8,
   "metadata": {},
   "outputs": [],
   "source": [
    "def count_collapser(data, bc):\n",
    "    '''\n",
    "    Collapses counts for all antibodies for a given batch barcode. Outputs dense data structure\n",
    "    :param data: sparse or dense data (AnnData or DataFrame) with counts\n",
    "    :param bc: batch barcode\n",
    "    :return: .collapsed = Numpy array of cells by batch BC.\n",
    "            .n_ab = number of antibodies per batch (quality check)\n",
    "    '''\n",
    "    # TODO add handle for dense data\n",
    "    rel_data = data[:,data.var.index.str.contains(r'(%s$)'%bc)]\n",
    "\n",
    "    # collapse counts\n",
    "    collapsed = rel_data.X.toarray().sum(axis=1).astype(\"int\")\n",
    "\n",
    "    return collapsed\n"
   ]
  },
  {
   "cell_type": "code",
   "execution_count": 9,
   "metadata": {},
   "outputs": [
    {
     "name": "stderr",
     "output_type": "stream",
     "text": [
      "/Users/antonogorodnikov/anaconda3/envs/scito/lib/python3.8/site-packages/pandas/core/strings.py:1952: UserWarning: This pattern has match groups. To actually get the groups, use str.extract.\n",
      "  return func(self, *args, **kwargs)\n",
      "Transforming to str index.\n"
     ]
    }
   ],
   "source": [
    "batches = adata.var_names.str.extract(r'(%s\\d+)'%batchid_string).iloc[:,0].dropna().unique()\n",
    "nClust = n_clust if n_clust != None else len(batches)+1\n",
    "\n",
    "# extract only antibody counts\n",
    "ab_adata = adata[:,adata.var_names.str.contains(r'(%s\\d+)'%batchid_string)]\n",
    "\n",
    "# test that every batch has same number of anitbodies\n",
    "\n",
    "# TODO: try to catch this exception and look for other identifiers\n",
    "num_ab = set([ab_adata[:, ab_adata.var_names.str.contains(r'(%s$)' % x)].n_vars for x in batches])\n",
    "assert(len(num_ab) == 1), \"ERROR: different number of antibodies per batch. Program exit\"\n",
    "\n",
    "\n",
    "\n",
    "# collapse counts within batch\n",
    "batch_counts = np.transpose(np.array([count_collapser(ab_adata, bc) for bc in batches]))\n",
    "\n",
    "# create anndata object with collapsed counts per batch\n",
    "batch_adata = anndata.AnnData(X=sparse.csr_matrix(batch_counts),\n",
    "                              obs=adata.obs,\n",
    "                              var=pd.DataFrame(batches, columns=['batch']))\n",
    "batch_counts = None\n"
   ]
  },
  {
   "cell_type": "code",
   "execution_count": 10,
   "metadata": {},
   "outputs": [
    {
     "name": "stdout",
     "output_type": "stream",
     "text": [
      "Keeping linear scale data for computing average\n"
     ]
    }
   ],
   "source": [
    "sc.pp.normalize_per_cell(batch_adata, counts_per_cell_after=1e4)\n",
    "if verbose:\n",
    "    print(\"Keeping linear scale data for computing average\")\n",
    "batch_adataNormLin = batch_adata.copy()\n",
    "sc.pp.log1p(batch_adata)"
   ]
  },
  {
   "cell_type": "code",
   "execution_count": 11,
   "metadata": {},
   "outputs": [
    {
     "data": {
      "text/plain": [
       "matrix([[4.7559476, 5.066585 , 5.8709655, 5.9274697, 5.9704304,\n",
       "         5.9913907, 4.7215414, 5.6070642, 6.341015 , 6.181942 ],\n",
       "        [7.673621 , 4.2514076, 5.772817 , 5.604701 , 5.9377255,\n",
       "         5.1509776, 7.5158   , 5.420608 , 5.76702  , 5.6493173],\n",
       "        [8.851336 , 5.5250697, 6.608448 , 6.203811 , 5.9377255,\n",
       "         8.995971 , 8.919161 , 9.015218 , 5.9895377, 5.7601724],\n",
       "        [4.4029517, 7.685743 , 5.5418267, 5.715539 , 5.694258 ,\n",
       "         5.268117 , 4.4291325, 4.607887 , 5.76702  , 5.4559155],\n",
       "        [5.238142 , 4.61474  , 5.6248946, 5.411333 , 8.393474 ,\n",
       "         5.046261 , 4.489055 , 4.9877005, 6.0329165, 5.8359275],\n",
       "        [4.73085  , 8.463294 , 8.817651 , 5.9274697, 7.9346676,\n",
       "         5.352854 , 4.788402 , 5.390889 , 8.80591  , 6.0338526],\n",
       "        [4.915934 , 4.61474  , 5.3515964, 5.8153086, 5.9542117,\n",
       "         5.4309683, 4.4291325, 5.296035 , 5.872068 , 8.897214 ],\n",
       "        [4.4376206, 4.535522 , 5.6639767, 5.604701 , 5.903915 ,\n",
       "         5.352854 , 4.2242413, 5.504807 , 5.872068 , 5.5889125],\n",
       "        [4.73085  , 7.720453 , 6.393064 , 5.9274697, 6.047798 ,\n",
       "         5.4495792, 4.5455894, 5.420608 , 5.967122 , 5.343099 ],\n",
       "        [3.7219713, 4.1950865, 5.3515964, 8.851303 , 5.178596 ,\n",
       "         4.897766 , 3.8630004, 4.9877005, 5.3631186, 4.959684 ]],\n",
       "       dtype=float32)"
      ]
     },
     "execution_count": 11,
     "metadata": {},
     "output_type": "execute_result"
    }
   ],
   "source": [
    "np.transpose(batch_adata.X.todense())[:10,:10]"
   ]
  },
  {
   "cell_type": "code",
   "execution_count": 12,
   "metadata": {},
   "outputs": [],
   "source": [
    "clust_model = KMeans(n_clusters=nClust, n_init=n_init, random_state=seed, n_jobs=int(multiprocessing.cpu_count()*0.6))\n",
    "clusters = clust_model.fit_predict(batch_adata.X.todense())"
   ]
  },
  {
   "cell_type": "code",
   "execution_count": 13,
   "metadata": {},
   "outputs": [
    {
     "data": {
      "text/plain": [
       "array([5, 7, 7, ..., 2, 1, 3], dtype=int32)"
      ]
     },
     "execution_count": 13,
     "metadata": {},
     "output_type": "execute_result"
    }
   ],
   "source": [
    "clusters"
   ]
  },
  {
   "cell_type": "code",
   "execution_count": 14,
   "metadata": {},
   "outputs": [],
   "source": [
    "def av_gene_expression(anndata, marker_dict, gene_symbol_key=None, partition_key='batch_cluster'):\n",
    "    \"\"\" Copied from https://github.com/theislab/scanpy/issues/181 - posted by one of scanpy developers\n",
    "    A function go get mean expressions of feature per cluster (class).\n",
    "    Data should be normalized to reads per cell, but kept in the linear scale\n",
    "    #\n",
    "    # Inputs:\n",
    "    #    anndata         - An AnnData object containing the data set and a partition\n",
    "    #    marker_dict     - A dictionary with cell-type markers. The markers should be stores as anndata.var_names or\n",
    "    #                      an anndata.var field with the key given by the gene_symbol_key input\n",
    "    #    gene_symbol_key - The key for the anndata.var field with gene IDs or names that correspond to the marker\n",
    "    #                      genes\n",
    "    #    partition_key   - The key for the anndata.obs field where the cluster IDs are stored. The default is\n",
    "    #                      'batch_cluster' \"\"\"\n",
    "\n",
    "    # Test inputs\n",
    "    if partition_key not in anndata.obs.columns.values:\n",
    "        print('KeyError: The partition key was not found in the passed AnnData object.')\n",
    "        print('   Have you done the clustering? If so, please tell pass the cluster IDs with the AnnData object!')\n",
    "        raise\n",
    "\n",
    "    if (gene_symbol_key != None) and (gene_symbol_key not in anndata.var.columns.values):\n",
    "        print('KeyError: The provided gene symbol key was not found in the passed AnnData object.')\n",
    "        print('   Check that your cell type markers are given in a format that your anndata object knows!')\n",
    "        raise\n",
    "\n",
    "    if gene_symbol_key:\n",
    "        gene_ids = anndata.var[gene_symbol_key]\n",
    "    else:\n",
    "        gene_ids = anndata.var_names\n",
    "\n",
    "    clusters = set(anndata.obs[partition_key])\n",
    "    n_clust = len(clusters)\n",
    "    marker_exp = pd.DataFrame(columns=clusters)\n",
    "    marker_exp['cell_type'] = pd.Series({}, dtype='str')\n",
    "    marker_names = []\n",
    "\n",
    "    i = 0\n",
    "    for group in marker_dict:\n",
    "        # Find the corresponding columns and get their mean expression in the cluster\n",
    "        for gene in marker_dict[group]:\n",
    "            ens_idx = np.in1d(gene_ids, gene)  # Note there may be multiple mappings\n",
    "            if np.sum(ens_idx) == 0:\n",
    "                continue\n",
    "            else:\n",
    "                anndata.obs[ens_idx[0]] = anndata.X[:, ens_idx].mean(1)  # works for both single and multiple mapping\n",
    "                ens_idx = ens_idx[0]\n",
    "\n",
    "            clust_marker_exp = anndata.obs.groupby(partition_key)[ens_idx].apply(np.mean).tolist()\n",
    "            clust_marker_exp.append(group)\n",
    "            marker_exp.loc[i] = clust_marker_exp\n",
    "            marker_names.append(gene)\n",
    "            i += 1\n",
    "\n",
    "    # Replace the rownames with informative gene symbols\n",
    "    marker_exp.index = marker_names\n",
    "\n",
    "    return (marker_exp)"
   ]
  },
  {
   "cell_type": "code",
   "execution_count": 15,
   "metadata": {},
   "outputs": [],
   "source": [
    "batch_adataNormLin.obs['batch_cluster'] = clusters\n",
    "batch_adata.obs['batch_cluster'] = clusters\n",
    "marker_dict = {batch_adataNormLin.var.keys()[0]: batch_adataNormLin.var['batch']} # for average expression of batch oligo\n",
    "\n",
    "av_batch_expr = av_gene_expression(batch_adataNormLin, marker_dict, gene_symbol_key='batch', partition_key='batch_cluster').iloc[:,:-1]\n"
   ]
  },
  {
   "cell_type": "code",
   "execution_count": 16,
   "metadata": {},
   "outputs": [
    {
     "data": {
      "text/html": [
       "<div>\n",
       "<style scoped>\n",
       "    .dataframe tbody tr th:only-of-type {\n",
       "        vertical-align: middle;\n",
       "    }\n",
       "\n",
       "    .dataframe tbody tr th {\n",
       "        vertical-align: top;\n",
       "    }\n",
       "\n",
       "    .dataframe thead th {\n",
       "        text-align: right;\n",
       "    }\n",
       "</style>\n",
       "<table border=\"1\" class=\"dataframe\">\n",
       "  <thead>\n",
       "    <tr style=\"text-align: right;\">\n",
       "      <th></th>\n",
       "      <th>0</th>\n",
       "      <th>1</th>\n",
       "      <th>2</th>\n",
       "      <th>3</th>\n",
       "      <th>4</th>\n",
       "      <th>5</th>\n",
       "      <th>6</th>\n",
       "      <th>7</th>\n",
       "      <th>8</th>\n",
       "      <th>9</th>\n",
       "      <th>10</th>\n",
       "    </tr>\n",
       "  </thead>\n",
       "  <tbody>\n",
       "    <tr>\n",
       "      <th>barcode1</th>\n",
       "      <td>533.941528</td>\n",
       "      <td>7338.555176</td>\n",
       "      <td>606.273621</td>\n",
       "      <td>790.354553</td>\n",
       "      <td>659.250488</td>\n",
       "      <td>615.607117</td>\n",
       "      <td>698.095886</td>\n",
       "      <td>569.764099</td>\n",
       "      <td>648.659851</td>\n",
       "      <td>650.480286</td>\n",
       "      <td>582.763733</td>\n",
       "    </tr>\n",
       "    <tr>\n",
       "      <th>barcode2</th>\n",
       "      <td>361.844299</td>\n",
       "      <td>251.803574</td>\n",
       "      <td>358.733368</td>\n",
       "      <td>558.682739</td>\n",
       "      <td>351.738739</td>\n",
       "      <td>350.502686</td>\n",
       "      <td>446.010895</td>\n",
       "      <td>353.380951</td>\n",
       "      <td>368.188812</td>\n",
       "      <td>6574.243164</td>\n",
       "      <td>323.363525</td>\n",
       "    </tr>\n",
       "    <tr>\n",
       "      <th>barcode3</th>\n",
       "      <td>4274.419922</td>\n",
       "      <td>293.888489</td>\n",
       "      <td>405.886444</td>\n",
       "      <td>259.111420</td>\n",
       "      <td>510.716003</td>\n",
       "      <td>6928.638184</td>\n",
       "      <td>543.394165</td>\n",
       "      <td>403.356354</td>\n",
       "      <td>437.922577</td>\n",
       "      <td>394.863892</td>\n",
       "      <td>387.580261</td>\n",
       "    </tr>\n",
       "    <tr>\n",
       "      <th>barcode4</th>\n",
       "      <td>321.688110</td>\n",
       "      <td>283.239563</td>\n",
       "      <td>308.950439</td>\n",
       "      <td>440.438477</td>\n",
       "      <td>374.315735</td>\n",
       "      <td>313.613922</td>\n",
       "      <td>439.894836</td>\n",
       "      <td>347.178345</td>\n",
       "      <td>6180.692383</td>\n",
       "      <td>357.045624</td>\n",
       "      <td>357.991089</td>\n",
       "    </tr>\n",
       "    <tr>\n",
       "      <th>barcode5</th>\n",
       "      <td>235.548065</td>\n",
       "      <td>397.577026</td>\n",
       "      <td>443.025879</td>\n",
       "      <td>455.678802</td>\n",
       "      <td>417.298706</td>\n",
       "      <td>352.318848</td>\n",
       "      <td>5652.455078</td>\n",
       "      <td>407.633667</td>\n",
       "      <td>506.638641</td>\n",
       "      <td>372.049744</td>\n",
       "      <td>500.393005</td>\n",
       "    </tr>\n",
       "    <tr>\n",
       "      <th>barcode6</th>\n",
       "      <td>386.752167</td>\n",
       "      <td>375.428925</td>\n",
       "      <td>417.819489</td>\n",
       "      <td>533.722046</td>\n",
       "      <td>450.803040</td>\n",
       "      <td>401.261169</td>\n",
       "      <td>591.285095</td>\n",
       "      <td>6659.786133</td>\n",
       "      <td>493.565674</td>\n",
       "      <td>429.726990</td>\n",
       "      <td>465.965942</td>\n",
       "    </tr>\n",
       "    <tr>\n",
       "      <th>barcode7</th>\n",
       "      <td>368.057800</td>\n",
       "      <td>336.467987</td>\n",
       "      <td>6652.825684</td>\n",
       "      <td>502.215271</td>\n",
       "      <td>424.413391</td>\n",
       "      <td>368.879456</td>\n",
       "      <td>530.675293</td>\n",
       "      <td>426.578644</td>\n",
       "      <td>476.327087</td>\n",
       "      <td>393.390076</td>\n",
       "      <td>474.894745</td>\n",
       "    </tr>\n",
       "    <tr>\n",
       "      <th>barcode8</th>\n",
       "      <td>341.637726</td>\n",
       "      <td>231.882370</td>\n",
       "      <td>286.682129</td>\n",
       "      <td>490.623657</td>\n",
       "      <td>6277.550781</td>\n",
       "      <td>238.897629</td>\n",
       "      <td>404.940277</td>\n",
       "      <td>285.754822</td>\n",
       "      <td>312.614624</td>\n",
       "      <td>311.350922</td>\n",
       "      <td>312.053925</td>\n",
       "    </tr>\n",
       "    <tr>\n",
       "      <th>barcode9</th>\n",
       "      <td>316.118652</td>\n",
       "      <td>361.931030</td>\n",
       "      <td>353.115265</td>\n",
       "      <td>452.449432</td>\n",
       "      <td>377.933533</td>\n",
       "      <td>344.552887</td>\n",
       "      <td>461.478699</td>\n",
       "      <td>375.865051</td>\n",
       "      <td>405.404205</td>\n",
       "      <td>375.818634</td>\n",
       "      <td>6424.080078</td>\n",
       "    </tr>\n",
       "    <tr>\n",
       "      <th>barcode10</th>\n",
       "      <td>2859.992188</td>\n",
       "      <td>129.226089</td>\n",
       "      <td>166.688217</td>\n",
       "      <td>5516.723633</td>\n",
       "      <td>155.979279</td>\n",
       "      <td>85.728188</td>\n",
       "      <td>231.769592</td>\n",
       "      <td>170.702133</td>\n",
       "      <td>169.985550</td>\n",
       "      <td>141.030701</td>\n",
       "      <td>170.914124</td>\n",
       "    </tr>\n",
       "  </tbody>\n",
       "</table>\n",
       "</div>"
      ],
      "text/plain": [
       "                    0            1            2            3            4   \\\n",
       "barcode1    533.941528  7338.555176   606.273621   790.354553   659.250488   \n",
       "barcode2    361.844299   251.803574   358.733368   558.682739   351.738739   \n",
       "barcode3   4274.419922   293.888489   405.886444   259.111420   510.716003   \n",
       "barcode4    321.688110   283.239563   308.950439   440.438477   374.315735   \n",
       "barcode5    235.548065   397.577026   443.025879   455.678802   417.298706   \n",
       "barcode6    386.752167   375.428925   417.819489   533.722046   450.803040   \n",
       "barcode7    368.057800   336.467987  6652.825684   502.215271   424.413391   \n",
       "barcode8    341.637726   231.882370   286.682129   490.623657  6277.550781   \n",
       "barcode9    316.118652   361.931030   353.115265   452.449432   377.933533   \n",
       "barcode10  2859.992188   129.226089   166.688217  5516.723633   155.979279   \n",
       "\n",
       "                    5            6            7            8            9   \\\n",
       "barcode1    615.607117   698.095886   569.764099   648.659851   650.480286   \n",
       "barcode2    350.502686   446.010895   353.380951   368.188812  6574.243164   \n",
       "barcode3   6928.638184   543.394165   403.356354   437.922577   394.863892   \n",
       "barcode4    313.613922   439.894836   347.178345  6180.692383   357.045624   \n",
       "barcode5    352.318848  5652.455078   407.633667   506.638641   372.049744   \n",
       "barcode6    401.261169   591.285095  6659.786133   493.565674   429.726990   \n",
       "barcode7    368.879456   530.675293   426.578644   476.327087   393.390076   \n",
       "barcode8    238.897629   404.940277   285.754822   312.614624   311.350922   \n",
       "barcode9    344.552887   461.478699   375.865051   405.404205   375.818634   \n",
       "barcode10    85.728188   231.769592   170.702133   169.985550   141.030701   \n",
       "\n",
       "                    10  \n",
       "barcode1    582.763733  \n",
       "barcode2    323.363525  \n",
       "barcode3    387.580261  \n",
       "barcode4    357.991089  \n",
       "barcode5    500.393005  \n",
       "barcode6    465.965942  \n",
       "barcode7    474.894745  \n",
       "barcode8    312.053925  \n",
       "barcode9   6424.080078  \n",
       "barcode10   170.914124  "
      ]
     },
     "execution_count": 16,
     "metadata": {},
     "output_type": "execute_result"
    }
   ],
   "source": [
    "av_batch_expr"
   ]
  },
  {
   "cell_type": "code",
   "execution_count": 17,
   "metadata": {},
   "outputs": [
    {
     "name": "stderr",
     "output_type": "stream",
     "text": [
      "Transforming to str index.\n"
     ]
    }
   ],
   "source": [
    "discrete = anndata.AnnData(X=sparse.csr_matrix(np.zeros(batch_adata.shape)),\n",
    "                                   obs=adata.obs,\n",
    "                                   var=pd.DataFrame(batches, columns=['batch']))"
   ]
  },
  {
   "cell_type": "code",
   "execution_count": 18,
   "metadata": {},
   "outputs": [],
   "source": [
    "result = anndata.AnnData(X=sparse.csr_matrix(np.zeros((1,28))),\n",
    "                      var=pd.DataFrame(index=set([x[0] for x in ab_adata.var_names.str.split(pat=batchid_string)])),\n",
    "                      obs=None)"
   ]
  },
  {
   "cell_type": "code",
   "execution_count": 19,
   "metadata": {},
   "outputs": [
    {
     "name": "stderr",
     "output_type": "stream",
     "text": [
      "/Users/antonogorodnikov/anaconda3/envs/scito/lib/python3.8/site-packages/anndata/core/anndata.py:846: FutureWarning: In anndata v0.7+, arrays contained within an AnnData object will maintain their dimensionality. For example, prior to v0.7 `adata[0, 0].X` returned a scalar and `adata[0, :]` returned a 1d array, post v0.7 they will return two dimensional arrays. If you would like to get a one dimensional array from your AnnData object, consider using the `adata.obs_vector`, `adata.var_vector` methods or accessing the array directly.\n",
      "  warn_flatten()\n"
     ]
    },
    {
     "data": {
      "text/html": [
       "<div>\n",
       "<style scoped>\n",
       "    .dataframe tbody tr th:only-of-type {\n",
       "        vertical-align: middle;\n",
       "    }\n",
       "\n",
       "    .dataframe tbody tr th {\n",
       "        vertical-align: top;\n",
       "    }\n",
       "\n",
       "    .dataframe thead th {\n",
       "        text-align: right;\n",
       "    }\n",
       "</style>\n",
       "<table border=\"1\" class=\"dataframe\">\n",
       "  <thead>\n",
       "    <tr style=\"text-align: right;\">\n",
       "      <th></th>\n",
       "    </tr>\n",
       "  </thead>\n",
       "  <tbody>\n",
       "  </tbody>\n",
       "</table>\n",
       "</div>"
      ],
      "text/plain": [
       "Empty DataFrameView\n",
       "Columns: []\n",
       "Index: []"
      ]
     },
     "execution_count": 19,
     "metadata": {},
     "output_type": "execute_result"
    }
   ],
   "source": [
    "result[1:,:].obs\n"
   ]
  },
  {
   "cell_type": "code",
   "execution_count": 20,
   "metadata": {},
   "outputs": [],
   "source": [
    "positiveQuantile=0.99"
   ]
  },
  {
   "cell_type": "code",
   "execution_count": 33,
   "metadata": {},
   "outputs": [
    {
     "ename": "AssertionError",
     "evalue": "<class 'pandas.core.frame.DataFrame'>",
     "output_type": "error",
     "traceback": [
      "\u001b[0;31m---------------------------------------------------------------------------\u001b[0m",
      "\u001b[0;31mAssertionError\u001b[0m                            Traceback (most recent call last)",
      "\u001b[0;32m<ipython-input-33-2a18ac7c6255>\u001b[0m in \u001b[0;36m<module>\u001b[0;34m\u001b[0m\n\u001b[1;32m     10\u001b[0m     \u001b[0mres\u001b[0m \u001b[0;34m=\u001b[0m \u001b[0mres\u001b[0m\u001b[0;34m[\u001b[0m\u001b[0;34m:\u001b[0m\u001b[0;34m,\u001b[0m\u001b[0mab_adata\u001b[0m\u001b[0;34m.\u001b[0m\u001b[0mvar_names\u001b[0m\u001b[0;34m.\u001b[0m\u001b[0mstr\u001b[0m\u001b[0;34m.\u001b[0m\u001b[0mcontains\u001b[0m\u001b[0;34m(\u001b[0m\u001b[0;34mr'(%s$)'\u001b[0m \u001b[0;34m%\u001b[0m \u001b[0mbatch_name\u001b[0m\u001b[0;34m)\u001b[0m\u001b[0;34m]\u001b[0m\u001b[0;34m\u001b[0m\u001b[0;34m\u001b[0m\u001b[0m\n\u001b[1;32m     11\u001b[0m     \u001b[0mres\u001b[0m\u001b[0;34m.\u001b[0m\u001b[0mvar_names\u001b[0m \u001b[0;34m=\u001b[0m \u001b[0;34m[\u001b[0m\u001b[0mx\u001b[0m\u001b[0;34m[\u001b[0m\u001b[0;36m0\u001b[0m\u001b[0;34m]\u001b[0m \u001b[0;32mfor\u001b[0m \u001b[0mx\u001b[0m \u001b[0;32min\u001b[0m \u001b[0mres\u001b[0m\u001b[0;34m.\u001b[0m\u001b[0mvar_names\u001b[0m\u001b[0;34m.\u001b[0m\u001b[0mstr\u001b[0m\u001b[0;34m.\u001b[0m\u001b[0msplit\u001b[0m\u001b[0;34m(\u001b[0m\u001b[0mpat\u001b[0m\u001b[0;34m=\u001b[0m\u001b[0mbatchid_string\u001b[0m\u001b[0;34m)\u001b[0m\u001b[0;34m]\u001b[0m\u001b[0;34m\u001b[0m\u001b[0;34m\u001b[0m\u001b[0m\n\u001b[0;32m---> 12\u001b[0;31m     \u001b[0mres\u001b[0m\u001b[0;34m.\u001b[0m\u001b[0mvar\u001b[0m\u001b[0;34m.\u001b[0m\u001b[0mdrop\u001b[0m\u001b[0;34m(\u001b[0m\u001b[0mres\u001b[0m\u001b[0;34m.\u001b[0m\u001b[0mvar\u001b[0m\u001b[0;34m.\u001b[0m\u001b[0mcolumns\u001b[0m\u001b[0;34m,\u001b[0m \u001b[0maxis\u001b[0m\u001b[0;34m=\u001b[0m\u001b[0;36m1\u001b[0m\u001b[0;34m,\u001b[0m \u001b[0minplace\u001b[0m\u001b[0;34m=\u001b[0m\u001b[0;32mTrue\u001b[0m\u001b[0;34m)\u001b[0m\u001b[0;34m\u001b[0m\u001b[0;34m\u001b[0m\u001b[0m\n\u001b[0m\u001b[1;32m     13\u001b[0m \u001b[0;34m\u001b[0m\u001b[0m\n\u001b[1;32m     14\u001b[0m     \u001b[0mresult\u001b[0m \u001b[0;34m=\u001b[0m \u001b[0mresult\u001b[0m\u001b[0;34m.\u001b[0m\u001b[0mconcatenate\u001b[0m\u001b[0;34m(\u001b[0m\u001b[0mres\u001b[0m\u001b[0;34m,\u001b[0m \u001b[0mjoin\u001b[0m\u001b[0;34m=\u001b[0m\u001b[0;34m'outer'\u001b[0m\u001b[0;34m,\u001b[0m \u001b[0mindex_unique\u001b[0m\u001b[0;34m=\u001b[0m\u001b[0;32mNone\u001b[0m\u001b[0;34m)\u001b[0m\u001b[0;34m\u001b[0m\u001b[0;34m\u001b[0m\u001b[0m\n",
      "\u001b[0;32m~/anaconda3/envs/scito/lib/python3.8/site-packages/pandas/core/frame.py\u001b[0m in \u001b[0;36mdrop\u001b[0;34m(self, labels, axis, index, columns, level, inplace, errors)\u001b[0m\n\u001b[1;32m   3988\u001b[0m                 \u001b[0mweight\u001b[0m  \u001b[0;36m1.0\u001b[0m     \u001b[0;36m0.8\u001b[0m\u001b[0;34m\u001b[0m\u001b[0;34m\u001b[0m\u001b[0m\n\u001b[1;32m   3989\u001b[0m         \"\"\"\n\u001b[0;32m-> 3990\u001b[0;31m         return super().drop(\n\u001b[0m\u001b[1;32m   3991\u001b[0m             \u001b[0mlabels\u001b[0m\u001b[0;34m=\u001b[0m\u001b[0mlabels\u001b[0m\u001b[0;34m,\u001b[0m\u001b[0;34m\u001b[0m\u001b[0;34m\u001b[0m\u001b[0m\n\u001b[1;32m   3992\u001b[0m             \u001b[0maxis\u001b[0m\u001b[0;34m=\u001b[0m\u001b[0maxis\u001b[0m\u001b[0;34m,\u001b[0m\u001b[0;34m\u001b[0m\u001b[0;34m\u001b[0m\u001b[0m\n",
      "\u001b[0;32m~/anaconda3/envs/scito/lib/python3.8/site-packages/pandas/core/generic.py\u001b[0m in \u001b[0;36mdrop\u001b[0;34m(self, labels, axis, index, columns, level, inplace, errors)\u001b[0m\n\u001b[1;32m   3934\u001b[0m         \u001b[0;32mfor\u001b[0m \u001b[0maxis\u001b[0m\u001b[0;34m,\u001b[0m \u001b[0mlabels\u001b[0m \u001b[0;32min\u001b[0m \u001b[0maxes\u001b[0m\u001b[0;34m.\u001b[0m\u001b[0mitems\u001b[0m\u001b[0;34m(\u001b[0m\u001b[0;34m)\u001b[0m\u001b[0;34m:\u001b[0m\u001b[0;34m\u001b[0m\u001b[0;34m\u001b[0m\u001b[0m\n\u001b[1;32m   3935\u001b[0m             \u001b[0;32mif\u001b[0m \u001b[0mlabels\u001b[0m \u001b[0;32mis\u001b[0m \u001b[0;32mnot\u001b[0m \u001b[0;32mNone\u001b[0m\u001b[0;34m:\u001b[0m\u001b[0;34m\u001b[0m\u001b[0;34m\u001b[0m\u001b[0m\n\u001b[0;32m-> 3936\u001b[0;31m                 \u001b[0mobj\u001b[0m \u001b[0;34m=\u001b[0m \u001b[0mobj\u001b[0m\u001b[0;34m.\u001b[0m\u001b[0m_drop_axis\u001b[0m\u001b[0;34m(\u001b[0m\u001b[0mlabels\u001b[0m\u001b[0;34m,\u001b[0m \u001b[0maxis\u001b[0m\u001b[0;34m,\u001b[0m \u001b[0mlevel\u001b[0m\u001b[0;34m=\u001b[0m\u001b[0mlevel\u001b[0m\u001b[0;34m,\u001b[0m \u001b[0merrors\u001b[0m\u001b[0;34m=\u001b[0m\u001b[0merrors\u001b[0m\u001b[0;34m)\u001b[0m\u001b[0;34m\u001b[0m\u001b[0;34m\u001b[0m\u001b[0m\n\u001b[0m\u001b[1;32m   3937\u001b[0m \u001b[0;34m\u001b[0m\u001b[0m\n\u001b[1;32m   3938\u001b[0m         \u001b[0;32mif\u001b[0m \u001b[0minplace\u001b[0m\u001b[0;34m:\u001b[0m\u001b[0;34m\u001b[0m\u001b[0;34m\u001b[0m\u001b[0m\n",
      "\u001b[0;32m~/anaconda3/envs/scito/lib/python3.8/site-packages/pandas/core/generic.py\u001b[0m in \u001b[0;36m_drop_axis\u001b[0;34m(self, labels, axis, level, errors)\u001b[0m\n\u001b[1;32m   3969\u001b[0m             \u001b[0;32melse\u001b[0m\u001b[0;34m:\u001b[0m\u001b[0;34m\u001b[0m\u001b[0;34m\u001b[0m\u001b[0m\n\u001b[1;32m   3970\u001b[0m                 \u001b[0mnew_axis\u001b[0m \u001b[0;34m=\u001b[0m \u001b[0maxis\u001b[0m\u001b[0;34m.\u001b[0m\u001b[0mdrop\u001b[0m\u001b[0;34m(\u001b[0m\u001b[0mlabels\u001b[0m\u001b[0;34m,\u001b[0m \u001b[0merrors\u001b[0m\u001b[0;34m=\u001b[0m\u001b[0merrors\u001b[0m\u001b[0;34m)\u001b[0m\u001b[0;34m\u001b[0m\u001b[0;34m\u001b[0m\u001b[0m\n\u001b[0;32m-> 3971\u001b[0;31m             \u001b[0mresult\u001b[0m \u001b[0;34m=\u001b[0m \u001b[0mself\u001b[0m\u001b[0;34m.\u001b[0m\u001b[0mreindex\u001b[0m\u001b[0;34m(\u001b[0m\u001b[0;34m**\u001b[0m\u001b[0;34m{\u001b[0m\u001b[0maxis_name\u001b[0m\u001b[0;34m:\u001b[0m \u001b[0mnew_axis\u001b[0m\u001b[0;34m}\u001b[0m\u001b[0;34m)\u001b[0m\u001b[0;34m\u001b[0m\u001b[0;34m\u001b[0m\u001b[0m\n\u001b[0m\u001b[1;32m   3972\u001b[0m \u001b[0;34m\u001b[0m\u001b[0m\n\u001b[1;32m   3973\u001b[0m         \u001b[0;31m# Case for non-unique axis\u001b[0m\u001b[0;34m\u001b[0m\u001b[0;34m\u001b[0m\u001b[0;34m\u001b[0m\u001b[0m\n",
      "\u001b[0;32m~/anaconda3/envs/scito/lib/python3.8/site-packages/pandas/util/_decorators.py\u001b[0m in \u001b[0;36mwrapper\u001b[0;34m(*args, **kwargs)\u001b[0m\n\u001b[1;32m    225\u001b[0m         \u001b[0;34m@\u001b[0m\u001b[0mwraps\u001b[0m\u001b[0;34m(\u001b[0m\u001b[0mfunc\u001b[0m\u001b[0;34m)\u001b[0m\u001b[0;34m\u001b[0m\u001b[0;34m\u001b[0m\u001b[0m\n\u001b[1;32m    226\u001b[0m         \u001b[0;32mdef\u001b[0m \u001b[0mwrapper\u001b[0m\u001b[0;34m(\u001b[0m\u001b[0;34m*\u001b[0m\u001b[0margs\u001b[0m\u001b[0;34m,\u001b[0m \u001b[0;34m**\u001b[0m\u001b[0mkwargs\u001b[0m\u001b[0;34m)\u001b[0m \u001b[0;34m->\u001b[0m \u001b[0mCallable\u001b[0m\u001b[0;34m[\u001b[0m\u001b[0;34m...\u001b[0m\u001b[0;34m,\u001b[0m \u001b[0mAny\u001b[0m\u001b[0;34m]\u001b[0m\u001b[0;34m:\u001b[0m\u001b[0;34m\u001b[0m\u001b[0;34m\u001b[0m\u001b[0m\n\u001b[0;32m--> 227\u001b[0;31m             \u001b[0;32mreturn\u001b[0m \u001b[0mfunc\u001b[0m\u001b[0;34m(\u001b[0m\u001b[0;34m*\u001b[0m\u001b[0margs\u001b[0m\u001b[0;34m,\u001b[0m \u001b[0;34m**\u001b[0m\u001b[0mkwargs\u001b[0m\u001b[0;34m)\u001b[0m\u001b[0;34m\u001b[0m\u001b[0;34m\u001b[0m\u001b[0m\n\u001b[0m\u001b[1;32m    228\u001b[0m \u001b[0;34m\u001b[0m\u001b[0m\n\u001b[1;32m    229\u001b[0m         \u001b[0mkind\u001b[0m \u001b[0;34m=\u001b[0m \u001b[0minspect\u001b[0m\u001b[0;34m.\u001b[0m\u001b[0mParameter\u001b[0m\u001b[0;34m.\u001b[0m\u001b[0mPOSITIONAL_OR_KEYWORD\u001b[0m\u001b[0;34m\u001b[0m\u001b[0;34m\u001b[0m\u001b[0m\n",
      "\u001b[0;32m~/anaconda3/envs/scito/lib/python3.8/site-packages/pandas/core/frame.py\u001b[0m in \u001b[0;36mreindex\u001b[0;34m(self, *args, **kwargs)\u001b[0m\n\u001b[1;32m   3854\u001b[0m         \u001b[0mkwargs\u001b[0m\u001b[0;34m.\u001b[0m\u001b[0mpop\u001b[0m\u001b[0;34m(\u001b[0m\u001b[0;34m\"axis\"\u001b[0m\u001b[0;34m,\u001b[0m \u001b[0;32mNone\u001b[0m\u001b[0;34m)\u001b[0m\u001b[0;34m\u001b[0m\u001b[0;34m\u001b[0m\u001b[0m\n\u001b[1;32m   3855\u001b[0m         \u001b[0mkwargs\u001b[0m\u001b[0;34m.\u001b[0m\u001b[0mpop\u001b[0m\u001b[0;34m(\u001b[0m\u001b[0;34m\"labels\"\u001b[0m\u001b[0;34m,\u001b[0m \u001b[0;32mNone\u001b[0m\u001b[0;34m)\u001b[0m\u001b[0;34m\u001b[0m\u001b[0;34m\u001b[0m\u001b[0m\n\u001b[0;32m-> 3856\u001b[0;31m         \u001b[0;32mreturn\u001b[0m \u001b[0mself\u001b[0m\u001b[0;34m.\u001b[0m\u001b[0m_ensure_type\u001b[0m\u001b[0;34m(\u001b[0m\u001b[0msuper\u001b[0m\u001b[0;34m(\u001b[0m\u001b[0;34m)\u001b[0m\u001b[0;34m.\u001b[0m\u001b[0mreindex\u001b[0m\u001b[0;34m(\u001b[0m\u001b[0;34m**\u001b[0m\u001b[0mkwargs\u001b[0m\u001b[0;34m)\u001b[0m\u001b[0;34m)\u001b[0m\u001b[0;34m\u001b[0m\u001b[0;34m\u001b[0m\u001b[0m\n\u001b[0m\u001b[1;32m   3857\u001b[0m \u001b[0;34m\u001b[0m\u001b[0m\n\u001b[1;32m   3858\u001b[0m     def drop(\n",
      "\u001b[0;32m~/anaconda3/envs/scito/lib/python3.8/site-packages/pandas/core/base.py\u001b[0m in \u001b[0;36m_ensure_type\u001b[0;34m(self, obj)\u001b[0m\n\u001b[1;32m     91\u001b[0m         \u001b[0mUsed\u001b[0m \u001b[0mby\u001b[0m \u001b[0mtype\u001b[0m \u001b[0mcheckers\u001b[0m\u001b[0;34m.\u001b[0m\u001b[0;34m\u001b[0m\u001b[0;34m\u001b[0m\u001b[0m\n\u001b[1;32m     92\u001b[0m         \"\"\"\n\u001b[0;32m---> 93\u001b[0;31m         \u001b[0;32massert\u001b[0m \u001b[0misinstance\u001b[0m\u001b[0;34m(\u001b[0m\u001b[0mobj\u001b[0m\u001b[0;34m,\u001b[0m \u001b[0mtype\u001b[0m\u001b[0;34m(\u001b[0m\u001b[0mself\u001b[0m\u001b[0;34m)\u001b[0m\u001b[0;34m)\u001b[0m\u001b[0;34m,\u001b[0m \u001b[0mtype\u001b[0m\u001b[0;34m(\u001b[0m\u001b[0mobj\u001b[0m\u001b[0;34m)\u001b[0m\u001b[0;34m\u001b[0m\u001b[0;34m\u001b[0m\u001b[0m\n\u001b[0m\u001b[1;32m     94\u001b[0m         \u001b[0;32mreturn\u001b[0m \u001b[0mobj\u001b[0m\u001b[0;34m\u001b[0m\u001b[0;34m\u001b[0m\u001b[0m\n\u001b[1;32m     95\u001b[0m \u001b[0;34m\u001b[0m\u001b[0m\n",
      "\u001b[0;31mAssertionError\u001b[0m: <class 'pandas.core.frame.DataFrame'>"
     ]
    }
   ],
   "source": [
    "for batch_name in av_batch_expr.index:\n",
    "    values = batch_adata[:, batch_adata.var['batch'] == batch_name]\n",
    "    values_use = values[values.obs['batch_cluster'] == np.argmin(av_batch_expr.loc[batch_name, :])]\n",
    "    fitty = norm.fit(values_use.X)\n",
    "    cutoff = np.quantile(norm.rvs(loc=fitty[0], scale=fitty[1], size=1000, random_state=seed),\n",
    "                         q=positiveQuantile)\n",
    "\n",
    "    ox = [x[0] for x in np.argwhere(values.X > cutoff)]\n",
    "    res = ab_adata[ox, :]\n",
    "    res = res[:,ab_adata.var_names.str.contains(r'(%s$)' % batch_name)]\n",
    "    res.var_names = [x[0] for x in res.var_names.str.split(pat=batchid_string)]\n",
    "    res.var.drop(res.var.columns, axis=1, inplace=True)\n",
    "\n",
    "    result = result.concatenate(res, join='outer', index_unique=None)\n",
    "\n",
    "\n",
    "    discrete.X[ox, int(values.var.index[0])] = 1\n",
    "    if verbose:\n",
    "        print(\"Cutoff for {}: {} reads\".format(batch_name,\n",
    "                                               int(np.expm1(cutoff))))"
   ]
  },
  {
   "cell_type": "code",
   "execution_count": 25,
   "metadata": {},
   "outputs": [
    {
     "data": {
      "text/plain": [
       "Index(['gene_ids', 'feature_types', 'genome'], dtype='object')"
      ]
     },
     "execution_count": 25,
     "metadata": {},
     "output_type": "execute_result"
    }
   ],
   "source": [
    "res.var.columns\n"
   ]
  },
  {
   "cell_type": "code",
   "execution_count": 34,
   "metadata": {},
   "outputs": [],
   "source": [
    "batch_name = 'barcode2'\n",
    "values = batch_adata[:, batch_adata.var['batch'] == batch_name]\n",
    "values_use = values[values.obs['batch_cluster'] == np.argmin(av_batch_expr.loc[batch_name, :])]\n",
    "fitty = norm.fit(values_use.X)\n",
    "cutoff = np.quantile(norm.rvs(loc=fitty[0], scale=fitty[1], size=1000, random_state=seed),\n",
    "                     q=positiveQuantile)\n",
    "\n",
    "ox = [x[0] for x in np.argwhere(values.X > cutoff)]\n",
    "res = ab_adata[ox, :]\n",
    "res = res[:,ab_adata.var_names.str.contains(r'(%s$)' % batch_name)]\n",
    "res.var_names = [x[0] for x in res.var_names.str.split(pat=batchid_string)]\n",
    "res.var.drop('gene_ids', axis=1, inplace=True)\n",
    "\n",
    "result = result.concatenate(res, join='outer', index_unique=None)\n",
    "\n",
    "\n",
    "discrete.X[ox, int(values.var.index[0])] = 1\n",
    "if verbose:\n",
    "    print(\"Cutoff for {}: {} reads\".format(batch_name,\n",
    "                                           int(np.expm1(cutoff))))"
   ]
  },
  {
   "cell_type": "code",
   "execution_count": 39,
   "metadata": {},
   "outputs": [
    {
     "data": {
      "text/plain": [
       "anndata.core.views.DataFrameView"
      ]
     },
     "execution_count": 39,
     "metadata": {},
     "output_type": "execute_result"
    }
   ],
   "source": [
    "type(res.var)"
   ]
  },
  {
   "cell_type": "code",
   "execution_count": 39,
   "metadata": {},
   "outputs": [],
   "source": [
    "ab_adata"
   ]
  },
  {
   "cell_type": "code",
   "execution_count": 41,
   "metadata": {},
   "outputs": [
    {
     "data": {
      "text/plain": [
       "View of AnnData object with n_obs × n_vars = 5699 × 28 \n",
       "    var: 'gene_ids', 'feature_types', 'genome'"
      ]
     },
     "execution_count": 41,
     "metadata": {},
     "output_type": "execute_result"
    }
   ],
   "source": [
    "lol2"
   ]
  },
  {
   "cell_type": "code",
   "execution_count": 35,
   "metadata": {},
   "outputs": [
    {
     "data": {
      "text/plain": [
       "array([False, False, False, False, False, False, False, False, False,\n",
       "       False, False, False, False, False, False, False, False, False,\n",
       "       False, False, False, False, False, False, False, False, False,\n",
       "       False,  True,  True,  True,  True,  True,  True,  True,  True,\n",
       "        True,  True,  True,  True,  True,  True,  True,  True,  True,\n",
       "        True,  True,  True,  True,  True,  True,  True,  True,  True,\n",
       "        True,  True, False, False, False, False, False, False, False,\n",
       "       False, False, False, False, False, False, False, False, False,\n",
       "       False, False, False, False, False, False, False, False, False,\n",
       "       False, False, False, False, False, False, False, False, False,\n",
       "       False, False, False, False, False, False, False, False, False,\n",
       "       False, False, False, False, False, False, False, False, False,\n",
       "       False, False, False, False, False, False, False, False, False,\n",
       "       False, False, False, False, False, False, False, False, False,\n",
       "       False, False, False, False, False, False, False, False, False,\n",
       "       False, False, False, False, False, False, False, False, False,\n",
       "       False, False, False, False, False, False, False, False, False,\n",
       "       False, False, False, False, False, False, False, False, False,\n",
       "       False, False, False, False, False, False, False, False, False,\n",
       "       False, False, False, False, False, False, False, False, False,\n",
       "       False, False, False, False, False, False, False, False, False,\n",
       "       False, False, False, False, False, False, False, False, False,\n",
       "       False, False, False, False, False, False, False, False, False,\n",
       "       False, False, False, False, False, False, False, False, False,\n",
       "       False, False, False, False, False, False, False, False, False,\n",
       "       False, False, False, False, False, False, False, False, False,\n",
       "       False, False, False, False, False, False, False, False, False,\n",
       "       False, False, False, False, False, False, False, False, False,\n",
       "       False, False, False, False, False, False, False, False, False,\n",
       "       False, False, False, False, False, False, False, False, False,\n",
       "       False, False, False, False, False, False, False, False, False,\n",
       "       False])"
      ]
     },
     "execution_count": 35,
     "metadata": {},
     "output_type": "execute_result"
    }
   ],
   "source": [
    "ab_adata.var_names.str.contains(r'(%s$)'%batch_name)\n"
   ]
  },
  {
   "cell_type": "code",
   "execution_count": 33,
   "metadata": {},
   "outputs": [
    {
     "ename": "IndexError",
     "evalue": "shape mismatch: indexing arrays could not be broadcast together with shapes (5699,) (28,) ",
     "output_type": "error",
     "traceback": [
      "\u001b[0;31m---------------------------------------------------------------------------\u001b[0m",
      "\u001b[0;31mIndexError\u001b[0m                                Traceback (most recent call last)",
      "\u001b[0;32m<ipython-input-33-e17f35e62267>\u001b[0m in \u001b[0;36m<module>\u001b[0;34m\u001b[0m\n\u001b[0;32m----> 1\u001b[0;31m \u001b[0mres\u001b[0m \u001b[0;34m=\u001b[0m \u001b[0mab_adata\u001b[0m\u001b[0;34m.\u001b[0m\u001b[0mX\u001b[0m\u001b[0;34m.\u001b[0m\u001b[0mtoarray\u001b[0m\u001b[0;34m(\u001b[0m\u001b[0;34m)\u001b[0m\u001b[0;34m[\u001b[0m\u001b[0mox\u001b[0m\u001b[0;34m,\u001b[0m\u001b[0mab_adata\u001b[0m\u001b[0;34m.\u001b[0m\u001b[0mvar_names\u001b[0m\u001b[0;34m.\u001b[0m\u001b[0mstr\u001b[0m\u001b[0;34m.\u001b[0m\u001b[0mcontains\u001b[0m\u001b[0;34m(\u001b[0m\u001b[0;34mr'(%s$)'\u001b[0m\u001b[0;34m%\u001b[0m\u001b[0mbatch_name\u001b[0m\u001b[0;34m)\u001b[0m\u001b[0;34m]\u001b[0m\u001b[0;34m\u001b[0m\u001b[0;34m\u001b[0m\u001b[0m\n\u001b[0m",
      "\u001b[0;31mIndexError\u001b[0m: shape mismatch: indexing arrays could not be broadcast together with shapes (5699,) (28,) "
     ]
    }
   ],
   "source": [
    "res = ab_adata.X.toarray()[ox,ab_adata.var_names.str.contains(r'(%s$)'%batch_name)]"
   ]
  },
  {
   "cell_type": "code",
   "execution_count": 27,
   "metadata": {},
   "outputs": [
    {
     "data": {
      "text/plain": [
       "<35371x10 sparse matrix of type '<class 'numpy.float32'>'\n",
       "\twith 353586 stored elements in Compressed Sparse Row format>"
      ]
     },
     "execution_count": 27,
     "metadata": {},
     "output_type": "execute_result"
    }
   ],
   "source": [
    "batch_adata.X"
   ]
  },
  {
   "cell_type": "code",
   "execution_count": 26,
   "metadata": {},
   "outputs": [],
   "source": [
    "def drop_assigner(x):\n",
    "    '''\n",
    "    Assigns droplet to be empty (\"NEG\"), singlet (\"SNG\") or multiplet (\"MTP\"). Accepts numeric values\n",
    "    :param x: numeric value - number of batches detected above the threshold for this droplet\n",
    "    :return: Assignment for a droplet\n",
    "    '''\n",
    "    if x == 0:\n",
    "        res = \"NEG\"\n",
    "    elif x == 1:\n",
    "        res = \"SNG\"\n",
    "    elif x > 1:\n",
    "        res = \"MTP\"\n",
    "    else:\n",
    "        assert (x >= 0), \"ERROR: wrong assignment\"\n",
    "\n",
    "    return res\n",
    "\n",
    "def drop_identifier(a, n_top, bc_ids):\n",
    "    '''\n",
    "    Function to get the batch ID and barcode expression of the best guesses\n",
    "    :param a: array or list of barcode expression values per cell\n",
    "    :param n_top: number of top assignments to return - depends on how many cells are detected per multiplet\n",
    "    :param bc_ids: adata.var with batch name\n",
    "    :return: dictionary:\n",
    "                \"barcodes\" - barcode IDs for best guesses in order of descending expression values\n",
    "                \"expression\" - expression values in same order as barcode IDs\n",
    "    '''\n",
    "    a = a.toarray()[0].tolist()\n",
    "    a = [round(x, 2) for x in a]\n",
    "    bc_ids = bc_ids.tolist()\n",
    "    a_ord, bc_ids_ord = zip(*sorted(zip(a, bc_ids), reverse=True))\n",
    "\n",
    "    top_a = a_ord[:n_top]\n",
    "    top_bc = bc_ids_ord[:n_top]\n",
    "\n",
    "    results = {\"barcodes\": top_bc,\n",
    "               \"expression\": top_a}\n",
    "\n",
    "    return results\n"
   ]
  },
  {
   "cell_type": "code",
   "execution_count": 27,
   "metadata": {},
   "outputs": [],
   "source": [
    "# assign whether drop is SNG, MTP or NEG\n",
    "n_positive = np.sum(discrete.X, axis=1)\n",
    "assignment = [drop_assigner(int(x)) for x in n_positive]\n",
    "batch_adata.obs['assignment'] = assignment\n"
   ]
  },
  {
   "cell_type": "code",
   "execution_count": 29,
   "metadata": {},
   "outputs": [
    {
     "data": {
      "text/plain": [
       "matrix([[2.],\n",
       "        [3.],\n",
       "        [2.],\n",
       "        [1.],\n",
       "        [2.],\n",
       "        [1.],\n",
       "        [2.],\n",
       "        [1.],\n",
       "        [1.],\n",
       "        [1.]], dtype=float32)"
      ]
     },
     "execution_count": 29,
     "metadata": {},
     "output_type": "execute_result"
    }
   ],
   "source": [
    "n_positive[:10]"
   ]
  },
  {
   "cell_type": "code",
   "execution_count": 93,
   "metadata": {},
   "outputs": [
    {
     "data": {
      "text/html": [
       "<div>\n",
       "<style scoped>\n",
       "    .dataframe tbody tr th:only-of-type {\n",
       "        vertical-align: middle;\n",
       "    }\n",
       "\n",
       "    .dataframe tbody tr th {\n",
       "        vertical-align: top;\n",
       "    }\n",
       "\n",
       "    .dataframe thead th {\n",
       "        text-align: right;\n",
       "    }\n",
       "</style>\n",
       "<table border=\"1\" class=\"dataframe\">\n",
       "  <thead>\n",
       "    <tr style=\"text-align: right;\">\n",
       "      <th></th>\n",
       "      <th>n_counts</th>\n",
       "      <th>batch_cluster</th>\n",
       "    </tr>\n",
       "  </thead>\n",
       "  <tbody>\n",
       "    <tr>\n",
       "      <th>AAACCCAAGAAGTCTA-1</th>\n",
       "      <td>3470.0</td>\n",
       "      <td>8</td>\n",
       "    </tr>\n",
       "  </tbody>\n",
       "</table>\n",
       "</div>"
      ],
      "text/plain": [
       "                    n_counts  batch_cluster\n",
       "AAACCCAAGAAGTCTA-1    3470.0              8"
      ]
     },
     "execution_count": 93,
     "metadata": {},
     "output_type": "execute_result"
    }
   ],
   "source": [
    "batch_adata[0,:].obs"
   ]
  },
  {
   "cell_type": "code",
   "execution_count": 92,
   "metadata": {},
   "outputs": [
    {
     "data": {
      "text/plain": [
       "array([[4.7559476, 8.157093 , 8.638797 , 4.4029517, 5.238142 , 4.73085  ,\n",
       "        4.915934 , 4.4376206, 4.73085  , 3.7219713]], dtype=float32)"
      ]
     },
     "execution_count": 92,
     "metadata": {},
     "output_type": "execute_result"
    }
   ],
   "source": [
    "batch_adata[0,:].X.toarray()"
   ]
  },
  {
   "cell_type": "code",
   "execution_count": 31,
   "metadata": {},
   "outputs": [
    {
     "name": "stdout",
     "output_type": "stream",
     "text": [
      "barcode1\n",
      "(7065, 1)\n",
      "6\n",
      "barcode2\n",
      "(3967, 1)\n",
      "0\n",
      "barcode3\n",
      "(3645, 1)\n",
      "4\n",
      "barcode4\n",
      "(14, 1)\n",
      "8\n",
      "barcode5\n",
      "(13, 1)\n",
      "10\n",
      "barcode6\n",
      "(4622, 1)\n",
      "5\n",
      "barcode7\n",
      "(13, 1)\n",
      "10\n",
      "barcode8\n",
      "(4622, 1)\n",
      "5\n",
      "barcode9\n",
      "(4622, 1)\n",
      "5\n",
      "barcode10\n",
      "(21, 1)\n",
      "7\n"
     ]
    }
   ],
   "source": [
    "for i in range(av_batch_expr.shape[0]):\n",
    "    batch_name = av_batch_expr.index[i]\n",
    "    values = batch_adata[:,batch_adata.var['batch'] == batch_name]\n",
    "    print(batch_name)\n",
    "    print(values[values.obs['batch_cluster'] == np.argmin(av_batch_expr.loc[batch_name,:])].shape)\n",
    "    print(np.argmin(av_batch_expr.loc[batch_name,:]))"
   ]
  },
  {
   "cell_type": "code",
   "execution_count": 118,
   "metadata": {},
   "outputs": [
    {
     "name": "stderr",
     "output_type": "stream",
     "text": [
      "/Users/antonogorodnikov/anaconda3/envs/scito/lib/python3.8/site-packages/anndata/core/anndata.py:846: FutureWarning: In anndata v0.7+, arrays contained within an AnnData object will maintain their dimensionality. For example, prior to v0.7 `adata[0, 0].X` returned a scalar and `adata[0, :]` returned a 1d array, post v0.7 they will return two dimensional arrays. If you would like to get a one dimensional array from your AnnData object, consider using the `adata.obs_vector`, `adata.var_vector` methods or accessing the array directly.\n",
      "  warn_flatten()\n",
      "/Users/antonogorodnikov/anaconda3/envs/scito/lib/python3.8/site-packages/anndata/core/anndata.py:846: FutureWarning: In anndata v0.7+, arrays contained within an AnnData object will maintain their dimensionality. For example, prior to v0.7 `adata[0, 0].X` returned a scalar and `adata[0, :]` returned a 1d array, post v0.7 they will return two dimensional arrays. If you would like to get a one dimensional array from your AnnData object, consider using the `adata.obs_vector`, `adata.var_vector` methods or accessing the array directly.\n",
      "  warn_flatten()\n",
      "/Users/antonogorodnikov/anaconda3/envs/scito/lib/python3.8/site-packages/anndata/core/anndata.py:846: FutureWarning: In anndata v0.7+, arrays contained within an AnnData object will maintain their dimensionality. For example, prior to v0.7 `adata[0, 0].X` returned a scalar and `adata[0, :]` returned a 1d array, post v0.7 they will return two dimensional arrays. If you would like to get a one dimensional array from your AnnData object, consider using the `adata.obs_vector`, `adata.var_vector` methods or accessing the array directly.\n",
      "  warn_flatten()\n",
      "/Users/antonogorodnikov/anaconda3/envs/scito/lib/python3.8/site-packages/anndata/core/anndata.py:846: FutureWarning: In anndata v0.7+, arrays contained within an AnnData object will maintain their dimensionality. For example, prior to v0.7 `adata[0, 0].X` returned a scalar and `adata[0, :]` returned a 1d array, post v0.7 they will return two dimensional arrays. If you would like to get a one dimensional array from your AnnData object, consider using the `adata.obs_vector`, `adata.var_vector` methods or accessing the array directly.\n",
      "  warn_flatten()\n",
      "/Users/antonogorodnikov/anaconda3/envs/scito/lib/python3.8/site-packages/anndata/core/anndata.py:846: FutureWarning: In anndata v0.7+, arrays contained within an AnnData object will maintain their dimensionality. For example, prior to v0.7 `adata[0, 0].X` returned a scalar and `adata[0, :]` returned a 1d array, post v0.7 they will return two dimensional arrays. If you would like to get a one dimensional array from your AnnData object, consider using the `adata.obs_vector`, `adata.var_vector` methods or accessing the array directly.\n",
      "  warn_flatten()\n",
      "/Users/antonogorodnikov/anaconda3/envs/scito/lib/python3.8/site-packages/anndata/core/anndata.py:846: FutureWarning: In anndata v0.7+, arrays contained within an AnnData object will maintain their dimensionality. For example, prior to v0.7 `adata[0, 0].X` returned a scalar and `adata[0, :]` returned a 1d array, post v0.7 they will return two dimensional arrays. If you would like to get a one dimensional array from your AnnData object, consider using the `adata.obs_vector`, `adata.var_vector` methods or accessing the array directly.\n",
      "  warn_flatten()\n",
      "/Users/antonogorodnikov/anaconda3/envs/scito/lib/python3.8/site-packages/anndata/core/anndata.py:846: FutureWarning: In anndata v0.7+, arrays contained within an AnnData object will maintain their dimensionality. For example, prior to v0.7 `adata[0, 0].X` returned a scalar and `adata[0, :]` returned a 1d array, post v0.7 they will return two dimensional arrays. If you would like to get a one dimensional array from your AnnData object, consider using the `adata.obs_vector`, `adata.var_vector` methods or accessing the array directly.\n",
      "  warn_flatten()\n",
      "/Users/antonogorodnikov/anaconda3/envs/scito/lib/python3.8/site-packages/anndata/core/anndata.py:846: FutureWarning: In anndata v0.7+, arrays contained within an AnnData object will maintain their dimensionality. For example, prior to v0.7 `adata[0, 0].X` returned a scalar and `adata[0, :]` returned a 1d array, post v0.7 they will return two dimensional arrays. If you would like to get a one dimensional array from your AnnData object, consider using the `adata.obs_vector`, `adata.var_vector` methods or accessing the array directly.\n",
      "  warn_flatten()\n",
      "/Users/antonogorodnikov/anaconda3/envs/scito/lib/python3.8/site-packages/anndata/core/anndata.py:846: FutureWarning: In anndata v0.7+, arrays contained within an AnnData object will maintain their dimensionality. For example, prior to v0.7 `adata[0, 0].X` returned a scalar and `adata[0, :]` returned a 1d array, post v0.7 they will return two dimensional arrays. If you would like to get a one dimensional array from your AnnData object, consider using the `adata.obs_vector`, `adata.var_vector` methods or accessing the array directly.\n",
      "  warn_flatten()\n"
     ]
    },
    {
     "data": {
      "image/png": "[encoded data removed]",
      "text/plain": [
       "<Figure size 432x288 with 1 Axes>"
      ]
     },
     "metadata": {
      "needs_background": "light"
     },
     "output_type": "display_data"
    }
   ],
   "source": [
    "for i in range(av_batch_expr.shape[0]):\n",
    "    batch_name = av_batch_expr.index[i]\n",
    "    values = batch_adata[:,batch_adata.var['batch'] == batch_name]\n",
    "    values_use = values[values.obs['batch_cluster'] == np.argmin(av_batch_expr.loc[batch_name,:])]\n",
    "    sns.distplot(values_use.X)"
   ]
  },
  {
   "cell_type": "code",
   "execution_count": 24,
   "metadata": {},
   "outputs": [],
   "source": [
    "batch_adata.obs['batch_cluster'] = clusters"
   ]
  },
  {
   "cell_type": "code",
   "execution_count": 105,
   "metadata": {},
   "outputs": [
    {
     "data": {
      "text/plain": [
       "<matplotlib.axes._subplots.AxesSubplot at 0x1404fe820>"
      ]
     },
     "execution_count": 105,
     "metadata": {},
     "output_type": "execute_result"
    },
    {
     "data": {
      "image/png": "[encoded data removed]",
      "text/plain": [
       "<Figure size 432x288 with 1 Axes>"
      ]
     },
     "metadata": {
      "needs_background": "light"
     },
     "output_type": "display_data"
    }
   ],
   "source": [
    "i=0\n",
    "batch_name = av_batch_expr.index[i]\n",
    "values = batch_adata[:,batch_adata.var['batch'] == batch_name]\n",
    "values_use = values[values.obs['batch_cluster'] == np.argmin(av_batch_expr.loc[batch_name,:])]\n",
    "sns.distplot(values_use.X)"
   ]
  },
  {
   "cell_type": "code",
   "execution_count": 31,
   "metadata": {},
   "outputs": [
    {
     "data": {
      "text/html": [
       "<div>\n",
       "<style scoped>\n",
       "    .dataframe tbody tr th:only-of-type {\n",
       "        vertical-align: middle;\n",
       "    }\n",
       "\n",
       "    .dataframe tbody tr th {\n",
       "        vertical-align: top;\n",
       "    }\n",
       "\n",
       "    .dataframe thead th {\n",
       "        text-align: right;\n",
       "    }\n",
       "</style>\n",
       "<table border=\"1\" class=\"dataframe\">\n",
       "  <thead>\n",
       "    <tr style=\"text-align: right;\">\n",
       "      <th></th>\n",
       "      <th>batch</th>\n",
       "    </tr>\n",
       "  </thead>\n",
       "  <tbody>\n",
       "    <tr>\n",
       "      <th>0</th>\n",
       "      <td>barcode1</td>\n",
       "    </tr>\n",
       "    <tr>\n",
       "      <th>1</th>\n",
       "      <td>barcode2</td>\n",
       "    </tr>\n",
       "    <tr>\n",
       "      <th>2</th>\n",
       "      <td>barcode3</td>\n",
       "    </tr>\n",
       "    <tr>\n",
       "      <th>3</th>\n",
       "      <td>barcode4</td>\n",
       "    </tr>\n",
       "    <tr>\n",
       "      <th>4</th>\n",
       "      <td>barcode5</td>\n",
       "    </tr>\n",
       "    <tr>\n",
       "      <th>5</th>\n",
       "      <td>barcode6</td>\n",
       "    </tr>\n",
       "    <tr>\n",
       "      <th>6</th>\n",
       "      <td>barcode7</td>\n",
       "    </tr>\n",
       "    <tr>\n",
       "      <th>7</th>\n",
       "      <td>barcode8</td>\n",
       "    </tr>\n",
       "    <tr>\n",
       "      <th>8</th>\n",
       "      <td>barcode9</td>\n",
       "    </tr>\n",
       "    <tr>\n",
       "      <th>9</th>\n",
       "      <td>barcode10</td>\n",
       "    </tr>\n",
       "  </tbody>\n",
       "</table>\n",
       "</div>"
      ],
      "text/plain": [
       "       batch\n",
       "0   barcode1\n",
       "1   barcode2\n",
       "2   barcode3\n",
       "3   barcode4\n",
       "4   barcode5\n",
       "5   barcode6\n",
       "6   barcode7\n",
       "7   barcode8\n",
       "8   barcode9\n",
       "9  barcode10"
      ]
     },
     "execution_count": 31,
     "metadata": {},
     "output_type": "execute_result"
    }
   ],
   "source": [
    "batch_adata.var"
   ]
  },
  {
   "cell_type": "code",
   "execution_count": 30,
   "metadata": {},
   "outputs": [
    {
     "data": {
      "text/plain": [
       "35371"
      ]
     },
     "execution_count": 30,
     "metadata": {},
     "output_type": "execute_result"
    }
   ],
   "source": [
    "batch_adata.n_obs"
   ]
  },
  {
   "cell_type": "code",
   "execution_count": 31,
   "metadata": {},
   "outputs": [
    {
     "data": {
      "text/plain": [
       "0"
      ]
     },
     "execution_count": 31,
     "metadata": {},
     "output_type": "execute_result"
    }
   ],
   "source": [
    "sum(n_positive == 0).tolist()[0][0]"
   ]
  },
  {
   "cell_type": "code",
   "execution_count": 32,
   "metadata": {},
   "outputs": [],
   "source": [
    "# assign cells to HTO and get expression values of each\n",
    "best = [drop_identifier(a=batch_adata.X[x, :],\n",
    "                        n_top=int(n_positive[x]),\n",
    "                        bc_ids=batch_adata.var['batch'])\n",
    "        for x in range(batch_adata.n_obs)]\n"
   ]
  },
  {
   "cell_type": "code",
   "execution_count": 33,
   "metadata": {},
   "outputs": [],
   "source": [
    "best_guess = [x['barcodes'] for x in best]\n",
    "best_exp = [x['expression'] for x in best]\n",
    "\n",
    "batch_adata.obs['best_guess'] = best_guess\n",
    "batch_adata.obs['expression'] = best_exp"
   ]
  },
  {
   "cell_type": "code",
   "execution_count": 34,
   "metadata": {},
   "outputs": [],
   "source": [
    "# Assemble some meta data\n",
    "n_cells_atLevel = [sum(n_positive == i).tolist()[0][0] for i in range(0,7)]\n",
    "n_cells_atLevel_df = pd.DataFrame({\"cells_per_drop\": [\"{} cells per drop\".format(x) for x in range(0,7)],\n",
    "                                   \"N_drops\": n_cells_atLevel})\n"
   ]
  },
  {
   "cell_type": "code",
   "execution_count": 36,
   "metadata": {},
   "outputs": [
    {
     "data": {
      "image/png": "[encoded data removed]",
      "text/plain": [
       "<Figure size 432x288 with 1 Axes>"
      ]
     },
     "metadata": {
      "needs_background": "light"
     },
     "output_type": "display_data"
    }
   ],
   "source": [
    "lol = sns.barplot(x=list(range(0,7)), y=n_cells_atLevel)"
   ]
  },
  {
   "cell_type": "code",
   "execution_count": 127,
   "metadata": {},
   "outputs": [],
   "source": [
    "plt.show(lol)"
   ]
  },
  {
   "cell_type": "code",
   "execution_count": 37,
   "metadata": {},
   "outputs": [
    {
     "data": {
      "text/plain": [
       "<matplotlib.axes._subplots.AxesSubplot at 0x13388a690>"
      ]
     },
     "execution_count": 37,
     "metadata": {},
     "output_type": "execute_result"
    },
    {
     "data": {
      "image/png": "[encoded data removed]",
      "text/plain": [
       "<Figure size 432x288 with 1 Axes>"
      ]
     },
     "metadata": {
      "needs_background": "light"
     },
     "output_type": "display_data"
    }
   ],
   "source": [
    "sns.distplot(n_positive)"
   ]
  },
  {
   "cell_type": "code",
   "execution_count": 109,
   "metadata": {},
   "outputs": [
    {
     "data": {
      "text/plain": [
       "[35371, 17471, 4276, 566, 43, 3, 0]"
      ]
     },
     "execution_count": 109,
     "metadata": {},
     "output_type": "execute_result"
    }
   ],
   "source": [
    "[sum(n_positive > i).tolist()[0][0] for i in range(0,7)]"
   ]
  },
  {
   "cell_type": "code",
   "execution_count": 98,
   "metadata": {},
   "outputs": [
    {
     "data": {
      "text/plain": [
       "scipy.sparse.csr.csr_matrix"
      ]
     },
     "execution_count": 98,
     "metadata": {},
     "output_type": "execute_result"
    }
   ],
   "source": [
    "type(adata.X[:,0])"
   ]
  },
  {
   "cell_type": "code",
   "execution_count": 99,
   "metadata": {},
   "outputs": [
    {
     "data": {
      "text/plain": [
       "<35371x1 sparse matrix of type '<class 'numpy.float32'>'\n",
       "\twith 35367 stored elements in Compressed Sparse Row format>"
      ]
     },
     "execution_count": 99,
     "metadata": {},
     "output_type": "execute_result"
    }
   ],
   "source": [
    "batch_adata.X[:,0]"
   ]
  },
  {
   "cell_type": "code",
   "execution_count": 100,
   "metadata": {},
   "outputs": [],
   "source": [
    "best = [drop_identifier(a=batch_adata.X[x,:],\n",
    "                              n_top=int(n_positive[x]),\n",
    "                              bc_ids=batch_adata.var['batch'])\n",
    "              for x in range(batch_adata.n_obs)]"
   ]
  },
  {
   "cell_type": "code",
   "execution_count": 101,
   "metadata": {},
   "outputs": [],
   "source": [
    "best_guess = [x['barcodes'] for x in best]\n",
    "best_exp = [x['expression'] for x in best]"
   ]
  },
  {
   "cell_type": "code",
   "execution_count": 102,
   "metadata": {},
   "outputs": [],
   "source": [
    "batch_adata.obs['best_guess'] = best_guess\n",
    "batch_adata.obs['expression'] = best_exp"
   ]
  },
  {
   "cell_type": "code",
   "execution_count": 103,
   "metadata": {},
   "outputs": [
    {
     "data": {
      "text/html": [
       "<div>\n",
       "<style scoped>\n",
       "    .dataframe tbody tr th:only-of-type {\n",
       "        vertical-align: middle;\n",
       "    }\n",
       "\n",
       "    .dataframe tbody tr th {\n",
       "        vertical-align: top;\n",
       "    }\n",
       "\n",
       "    .dataframe thead th {\n",
       "        text-align: right;\n",
       "    }\n",
       "</style>\n",
       "<table border=\"1\" class=\"dataframe\">\n",
       "  <thead>\n",
       "    <tr style=\"text-align: right;\">\n",
       "      <th></th>\n",
       "      <th>n_counts</th>\n",
       "      <th>batch_cluster</th>\n",
       "      <th>assignment</th>\n",
       "      <th>best_guess</th>\n",
       "      <th>expression</th>\n",
       "    </tr>\n",
       "  </thead>\n",
       "  <tbody>\n",
       "    <tr>\n",
       "      <th>AAACCCAAGAAGTCTA-1</th>\n",
       "      <td>3470.0</td>\n",
       "      <td>8</td>\n",
       "      <td>MTP</td>\n",
       "      <td>(barcode3, barcode2)</td>\n",
       "      <td>(8.64, 8.16)</td>\n",
       "    </tr>\n",
       "    <tr>\n",
       "      <th>AAACCCAAGAGGTCGT-1</th>\n",
       "      <td>2601.0</td>\n",
       "      <td>0</td>\n",
       "      <td>MTP</td>\n",
       "      <td>(barcode6, barcode9, barcode4)</td>\n",
       "      <td>(8.46, 7.72, 7.69)</td>\n",
       "    </tr>\n",
       "    <tr>\n",
       "      <th>AAACCCAAGCATCCTA-1</th>\n",
       "      <td>905.0</td>\n",
       "      <td>0</td>\n",
       "      <td>MTP</td>\n",
       "      <td>(barcode6, barcode3)</td>\n",
       "      <td>(8.82, 6.53)</td>\n",
       "    </tr>\n",
       "    <tr>\n",
       "      <th>AAACCCAAGCATTGAA-1</th>\n",
       "      <td>1256.0</td>\n",
       "      <td>5</td>\n",
       "      <td>SNG</td>\n",
       "      <td>(barcode10,)</td>\n",
       "      <td>(8.85,)</td>\n",
       "    </tr>\n",
       "    <tr>\n",
       "      <th>AAACCCAAGGAAGTGA-1</th>\n",
       "      <td>1587.0</td>\n",
       "      <td>7</td>\n",
       "      <td>MTP</td>\n",
       "      <td>(barcode5, barcode6)</td>\n",
       "      <td>(8.39, 7.93)</td>\n",
       "    </tr>\n",
       "    <tr>\n",
       "      <th>...</th>\n",
       "      <td>...</td>\n",
       "      <td>...</td>\n",
       "      <td>...</td>\n",
       "      <td>...</td>\n",
       "      <td>...</td>\n",
       "    </tr>\n",
       "    <tr>\n",
       "      <th>TTTGTTGTCCATTTGT-1</th>\n",
       "      <td>727.0</td>\n",
       "      <td>7</td>\n",
       "      <td>SNG</td>\n",
       "      <td>(barcode5,)</td>\n",
       "      <td>(8.67,)</td>\n",
       "    </tr>\n",
       "    <tr>\n",
       "      <th>TTTGTTGTCCCAACTC-1</th>\n",
       "      <td>1541.0</td>\n",
       "      <td>6</td>\n",
       "      <td>SNG</td>\n",
       "      <td>(barcode7,)</td>\n",
       "      <td>(8.87,)</td>\n",
       "    </tr>\n",
       "    <tr>\n",
       "      <th>TTTGTTGTCCGAGGCT-1</th>\n",
       "      <td>1611.0</td>\n",
       "      <td>6</td>\n",
       "      <td>MTP</td>\n",
       "      <td>(barcode1, barcode7)</td>\n",
       "      <td>(8.5, 8.21)</td>\n",
       "    </tr>\n",
       "    <tr>\n",
       "      <th>TTTGTTGTCGTTCGCT-1</th>\n",
       "      <td>1016.0</td>\n",
       "      <td>2</td>\n",
       "      <td>SNG</td>\n",
       "      <td>(barcode1,)</td>\n",
       "      <td>(8.96,)</td>\n",
       "    </tr>\n",
       "    <tr>\n",
       "      <th>TTTGTTGTCTACCCAC-1</th>\n",
       "      <td>1334.0</td>\n",
       "      <td>5</td>\n",
       "      <td>SNG</td>\n",
       "      <td>(barcode10,)</td>\n",
       "      <td>(8.93,)</td>\n",
       "    </tr>\n",
       "  </tbody>\n",
       "</table>\n",
       "<p>35371 rows × 5 columns</p>\n",
       "</div>"
      ],
      "text/plain": [
       "                    n_counts  batch_cluster assignment  \\\n",
       "AAACCCAAGAAGTCTA-1    3470.0              8        MTP   \n",
       "AAACCCAAGAGGTCGT-1    2601.0              0        MTP   \n",
       "AAACCCAAGCATCCTA-1     905.0              0        MTP   \n",
       "AAACCCAAGCATTGAA-1    1256.0              5        SNG   \n",
       "AAACCCAAGGAAGTGA-1    1587.0              7        MTP   \n",
       "...                      ...            ...        ...   \n",
       "TTTGTTGTCCATTTGT-1     727.0              7        SNG   \n",
       "TTTGTTGTCCCAACTC-1    1541.0              6        SNG   \n",
       "TTTGTTGTCCGAGGCT-1    1611.0              6        MTP   \n",
       "TTTGTTGTCGTTCGCT-1    1016.0              2        SNG   \n",
       "TTTGTTGTCTACCCAC-1    1334.0              5        SNG   \n",
       "\n",
       "                                        best_guess          expression  \n",
       "AAACCCAAGAAGTCTA-1            (barcode3, barcode2)        (8.64, 8.16)  \n",
       "AAACCCAAGAGGTCGT-1  (barcode6, barcode9, barcode4)  (8.46, 7.72, 7.69)  \n",
       "AAACCCAAGCATCCTA-1            (barcode6, barcode3)        (8.82, 6.53)  \n",
       "AAACCCAAGCATTGAA-1                    (barcode10,)             (8.85,)  \n",
       "AAACCCAAGGAAGTGA-1            (barcode5, barcode6)        (8.39, 7.93)  \n",
       "...                                            ...                 ...  \n",
       "TTTGTTGTCCATTTGT-1                     (barcode5,)             (8.67,)  \n",
       "TTTGTTGTCCCAACTC-1                     (barcode7,)             (8.87,)  \n",
       "TTTGTTGTCCGAGGCT-1            (barcode1, barcode7)         (8.5, 8.21)  \n",
       "TTTGTTGTCGTTCGCT-1                     (barcode1,)             (8.96,)  \n",
       "TTTGTTGTCTACCCAC-1                    (barcode10,)             (8.93,)  \n",
       "\n",
       "[35371 rows x 5 columns]"
      ]
     },
     "execution_count": 103,
     "metadata": {},
     "output_type": "execute_result"
    }
   ],
   "source": [
    "batch_adata.obs"
   ]
  },
  {
   "cell_type": "code",
   "execution_count": 398,
   "metadata": {},
   "outputs": [],
   "source": [
    "a = batch_adata.X[0,:].toarray()[0].tolist()\n",
    "bc_ids = batch_adata.var['batch'].tolist()"
   ]
  },
  {
   "cell_type": "code",
   "execution_count": 408,
   "metadata": {},
   "outputs": [],
   "source": [
    "a_ord, bc_ids_ord = zip(*sorted(zip(a, bc_ids), reverse=True))"
   ]
  },
  {
   "cell_type": "code",
   "execution_count": 413,
   "metadata": {},
   "outputs": [
    {
     "data": {
      "text/plain": [
       "(8.63879680633545, 8.157093048095703)"
      ]
     },
     "execution_count": 413,
     "metadata": {},
     "output_type": "execute_result"
    }
   ],
   "source": [
    "a_ord[:2]"
   ]
  },
  {
   "cell_type": "code",
   "execution_count": 381,
   "metadata": {},
   "outputs": [
    {
     "data": {
      "text/plain": [
       "['barcode1',\n",
       " 'barcode2',\n",
       " 'barcode3',\n",
       " 'barcode4',\n",
       " 'barcode5',\n",
       " 'barcode6',\n",
       " 'barcode7',\n",
       " 'barcode8',\n",
       " 'barcode9',\n",
       " 'barcode10']"
      ]
     },
     "execution_count": 381,
     "metadata": {},
     "output_type": "execute_result"
    }
   ],
   "source": [
    "batch_adata.var['batch'].tolist()"
   ]
  },
  {
   "cell_type": "code",
   "execution_count": null,
   "metadata": {},
   "outputs": [],
   "source": []
  }
 ],
 "metadata": {
  "kernelspec": {
   "display_name": "Python 3",
   "language": "python",
   "name": "python3"
  },
  "language_info": {
   "codemirror_mode": {
    "name": "ipython",
    "version": 3
   },
   "file_extension": ".py",
   "mimetype": "text/x-python",
   "name": "python",
   "nbconvert_exporter": "python",
   "pygments_lexer": "ipython3",
   "version": "3.7.6"
  }
 },
 "nbformat": 4,
 "nbformat_minor": 4
}
